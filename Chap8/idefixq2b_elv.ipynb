{
 "cells": [
  {
   "cell_type": "code",
   "execution_count": null,
   "metadata": {},
   "outputs": [],
   "source": [
    "from PIL import Image\n",
    "\n",
    "img = Image.open('idefix.png')\n",
    "\n",
    "def B(...):\n",
    "    if p > 127:\n",
    "        return ...\n",
    "    else:\n",
    "        return ...\n",
    "\n",
    "for j in range(104):\n",
    "    for i in range(85):\n",
    "        p = img.getpixel((i, j))\n",
    "        img.putpixel((i, j), B(p))\n",
    "        \n",
    "img"
   ]
  }
 ],
 "metadata": {
  "kernelspec": {
   "display_name": "Python 3",
   "language": "python",
   "name": "python3"
  },
  "language_info": {
   "codemirror_mode": {
    "name": "ipython",
    "version": 3
   },
   "file_extension": ".py",
   "mimetype": "text/x-python",
   "name": "python",
   "nbconvert_exporter": "python",
   "pygments_lexer": "ipython3",
   "version": "3.8.6"
  }
 },
 "nbformat": 4,
 "nbformat_minor": 4
}

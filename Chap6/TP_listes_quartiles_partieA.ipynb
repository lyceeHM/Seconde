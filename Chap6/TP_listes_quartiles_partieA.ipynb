{
 "cells": [
  {
   "cell_type": "markdown",
   "metadata": {},
   "source": [
    "<img src=\"https://raw.githubusercontent.com/lyceeHM/Terminale_Spe/master/python_lycee.png\">\n",
    "<div id=\"titre\">\n",
    "<h1 style=\"color:white;\n",
    "  font-family:Comic Sans MS;\n",
    "  font-size:3em;\n",
    "  background-color:black;\n",
    "  text-align:center;\n",
    "  padding:5px\">Listes et quartiles</h1>\n",
    "<div style=\"font-family:Comic Sans MS; background-color:#888;box-shadow: 8px 8px 0px #aaa; text-align:center; width: 50%; color:white\">Seconde : Chapitre 6</div>\n",
    "</div>"
   ]
  },
  {
   "cell_type": "markdown",
   "metadata": {},
   "source": [
    "<h1 style=\"font-family:Comic Sans MS;color:white;background-color:#B6B6B6;text-align:center;border-radius: 25px;padding: 20px;\"> <span style=\"font-size:2em;font-weight:bold;padding-right: 60px;color:black\"> A.</span>Les listes</h1>"
   ]
  },
  {
   "cell_type": "markdown",
   "metadata": {},
   "source": [
    "<div style='background-color:#DDD;padding:10px;border-left: 0.4rem solid;border-radius: 25px;padding: 20px;'>\n",
    "    <u><b>Définition :</b></u> une liste est pour PYTHON un ensemble d’éléments séparés par des virgules et mis entre crochets <span style=\"background-color:#DDD;font-size:1.3em;color:red\">[ ]</span>.\n",
    "    <br>C’est comme un   <span style=\"font-size:2em\">&laquo;</span>tiroir<span style=\"font-size:2em\">&raquo;</span>   où  chaque  élément de la liste est rangé  dans une boîte numérotée.\n",
    "</div>"
   ]
  },
  {
   "cell_type": "markdown",
   "metadata": {},
   "source": [
    "# <span style=\"font-size:1.3em;font-weight:bold;padding-right: 30px;\"> 1.</span> Saisir à la main d'une liste"
   ]
  },
  {
   "cell_type": "markdown",
   "metadata": {},
   "source": [
    "Exécuter l’instruction suivante pour d finir la liste nommée <code style=\"background-color:white;font-size:1.3em\">L</code>"
   ]
  },
  {
   "cell_type": "code",
   "execution_count": null,
   "metadata": {},
   "outputs": [],
   "source": [
    "L = [2, 3, 6, 4, 3]\n",
    "L"
   ]
  },
  {
   "cell_type": "markdown",
   "metadata": {},
   "source": [
    "# <span style=\"font-size:1.3em;font-weight:bold;padding-right: 30px;\"> 2.</span> Nombre d'éléments"
   ]
  },
  {
   "cell_type": "markdown",
   "metadata": {},
   "source": [
    "<span style=\"font-size:2em;font-weight:bold;padding-right: 30px;\"> a.</span> Combien d'éléments contient la liste <code style=\"background-color:white;font-size:1.3em\">L</code> ?"
   ]
  },
  {
   "cell_type": "markdown",
   "metadata": {},
   "source": [
    "<span style=\"font-size:2em;font-weight:bold;padding-right: 30px;\"> b.</span> Exécuter l’instruction suivante et  écrire le résultat obtenu en sortie."
   ]
  },
  {
   "cell_type": "code",
   "execution_count": null,
   "metadata": {},
   "outputs": [],
   "source": [
    "len(L)"
   ]
  },
  {
   "cell_type": "markdown",
   "metadata": {},
   "source": [
    "# <span style=\"font-size:1.3em;font-weight:bold;padding-right: 30px;\"> 3.</span> Effectif d'un élément d'une liste"
   ]
  },
  {
   "cell_type": "markdown",
   "metadata": {},
   "source": [
    "<span style=\"font-size:2em;font-weight:bold;padding-right: 30px;\"> a.</span> Exécuter l'instruction suivante et écrire le résultat obtenu en sortie."
   ]
  },
  {
   "cell_type": "code",
   "execution_count": null,
   "metadata": {},
   "outputs": [],
   "source": [
    "L.count(3)"
   ]
  },
  {
   "cell_type": "markdown",
   "metadata": {},
   "source": [
    "<span style=\"font-size:2em;font-weight:bold;padding-right: 30px;\"> b.</span> Compléter <span style=\"font-size:1.5em\">&laquo;</span> <code style=\"background-color:white;font-size:1.2em\">L.count(x)</code> renvoie . . . . . . . . . . . . . . . . . . . . &raquo;</span>"
   ]
  },
  {
   "cell_type": "markdown",
   "metadata": {},
   "source": [
    "# <span style=\"font-size:1.3em;font-weight:bold;padding-right: 30px;\"> 4.</span> Accéder à un élément d'une liste"
   ]
  },
  {
   "cell_type": "markdown",
   "metadata": {},
   "source": [
    "<span style=\"font-size:2em;font-weight:bold;padding-right: 30px;\"> a.</span> Exécuter l'instruction suivante."
   ]
  },
  {
   "cell_type": "code",
   "execution_count": null,
   "metadata": {},
   "outputs": [],
   "source": [
    "print('k', '->', 'L[k]')\n",
    "for k in range(5):\n",
    "    print(k, '->', L[k])"
   ]
  },
  {
   "cell_type": "markdown",
   "metadata": {},
   "source": [
    "<span style=\"font-size:2em;font-weight:bold;padding-right: 30px;\"> b.</span> Quelle instruction permet d'obtenir le premier élément de <code style=\"background-color:white;font-size:1.2em\">L</code> ?"
   ]
  },
  {
   "cell_type": "markdown",
   "metadata": {},
   "source": [
    "<span style=\"font-size:2em;font-weight:bold;padding-right: 30px;\"> c.</span> Quelle instruction permet d'obtenir le troisième élément de <code style=\"background-color:white;font-size:1.2em\">L</code> ?"
   ]
  },
  {
   "cell_type": "markdown",
   "metadata": {},
   "source": [
    "<div style='background-color:#DDD;padding:10px;border-left: 0.4rem solid;border-radius: 25px;padding: 20px;'>\n",
    "    <u><b>On pourra retenir :</b></u> \n",
    "    <p align=\"center\"><img src=\"https://raw.githubusercontent.com/lyceeHM/Seconde/master/Chap6/Liste_image.png\" width=\"90%\"></p>\n",
    "</div>"
   ]
  },
  {
   "cell_type": "markdown",
   "metadata": {},
   "source": [
    "# <span style=\"font-size:1.3em;font-weight:bold;padding-right: 30px;\"> 5.</span> Parcourir les éléments d'une liste"
   ]
  },
  {
   "cell_type": "markdown",
   "metadata": {},
   "source": [
    "<div style='background-color:#DDD;padding:10px;border-left: 0.4rem solid;border-radius: 25px;padding: 20px;'>\n",
    "    L'algorithme \n",
    "    <p style=\"text-align:center\"><span style=\"font-size:2em\">&laquo;</span> Pour chaque valeur <span style=\"background-color:#AAA;font-size:1.3em\">x</span> contenue dans <span style=\"background-color:#AAA;font-size:1.3em\">L</span>, on affiche sa valeur <span style=\"font-size:2em\">&raquo;</span></p>\n",
    "se code naturellement avec python :\n",
    "</div>"
   ]
  },
  {
   "cell_type": "markdown",
   "metadata": {},
   "source": [
    "```python \n",
    "for x in L:\n",
    "    print(x)\n",
    "```"
   ]
  },
  {
   "cell_type": "markdown",
   "metadata": {},
   "source": [
    "<em><b>Remarque :</em></b> On peut replacer <code style=\"background-color:white;font-size:1.2em\">x</code> par un autre nom de variable."
   ]
  },
  {
   "cell_type": "markdown",
   "metadata": {},
   "source": [
    "Compléter l'instruction suivante pour obtenir l'affichage suivant :\n",
    "```python \n",
    "2\n",
    "3\n",
    "6\n",
    "4\n",
    "3\n",
    "```"
   ]
  },
  {
   "cell_type": "code",
   "execution_count": null,
   "metadata": {},
   "outputs": [],
   "source": [
    "for k in range(...):\n",
    "    ..."
   ]
  },
  {
   "cell_type": "markdown",
   "metadata": {},
   "source": [
    "# <span style=\"font-size:1.3em;font-weight:bold;padding-right: 30px;\"> 6.</span> Ajouter un élément à une liste"
   ]
  },
  {
   "cell_type": "markdown",
   "metadata": {},
   "source": [
    "<span style=\"font-size:2em;font-weight:bold;padding-right: 30px;\"> a.</span> Exécuter l'instruction suivante et écrire le résultat obtenu en sortie."
   ]
  },
  {
   "cell_type": "code",
   "execution_count": null,
   "metadata": {},
   "outputs": [],
   "source": [
    "L.append(7)\n",
    "L"
   ]
  },
  {
   "cell_type": "markdown",
   "metadata": {},
   "source": [
    "<span style=\"font-size:2em;font-weight:bold;padding-right: 30px;\"> b.</span> Compléter <span style=\"font-size:1.5em\">&laquo;</span> <code style=\"background-color:white;font-size:1.2em\">L.append(x)</code> . . . . . . . . . . . . . . . . . . . . la valeur . . . . . . . . . . . . . à la liste <code style=\"background-color:white;font-size:1.2em\">L</code> <span style=\"font-size:1.5em\">&raquo;</span>"
   ]
  },
  {
   "cell_type": "markdown",
   "metadata": {},
   "source": [
    "# <span style=\"font-size:1.3em;font-weight:bold;padding-right: 30px;\"> 7.</span> Trier une liste"
   ]
  },
  {
   "cell_type": "markdown",
   "metadata": {},
   "source": [
    "<span style=\"font-size:2em;font-weight:bold;padding-right: 30px;\"> a.</span> Exécuter l'instruction suivante et écrire le résultat obtenu en sortie."
   ]
  },
  {
   "cell_type": "code",
   "execution_count": null,
   "metadata": {},
   "outputs": [],
   "source": [
    "sorted(L)"
   ]
  },
  {
   "cell_type": "markdown",
   "metadata": {},
   "source": [
    "<span style=\"font-size:2em;font-weight:bold;padding-right: 30px;\"> b.</span> Compléter <span style=\"font-size:1.5em\">&laquo;</span> <code style=\"background-color:white;font-size:1.2em\">L.sort(x)</code> trie la liste <code style=\"background-color:white;font-size:1.2em\">L</code>  par ordre  . . . . . . . . . . . . <span style=\"font-size:1.5em\">&raquo;</span>"
   ]
  },
  {
   "cell_type": "code",
   "execution_count": null,
   "metadata": {},
   "outputs": [],
   "source": []
  }
 ],
 "metadata": {
  "kernelspec": {
   "display_name": "Python 3",
   "language": "python",
   "name": "python3"
  },
  "language_info": {
   "codemirror_mode": {
    "name": "ipython",
    "version": 3
   },
   "file_extension": ".py",
   "mimetype": "text/x-python",
   "name": "python",
   "nbconvert_exporter": "python",
   "pygments_lexer": "ipython3",
   "version": "3.8.6"
  }
 },
 "nbformat": 4,
 "nbformat_minor": 4
}

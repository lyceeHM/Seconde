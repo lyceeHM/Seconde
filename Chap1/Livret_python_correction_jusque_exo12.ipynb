{
 "cells": [
  {
   "cell_type": "markdown",
   "metadata": {},
   "source": [
    "<div id=\"titre\">\n",
    "<h1 style=\"color:white;\n",
    "  font-family:Comic Sans MS;\n",
    "  font-size:3em;\n",
    "  background-color:#D0573B;\n",
    "  text-align:center;\n",
    "  padding:10px\">Livret Python</h1>\n",
    "<div style=\"font-family:Comic Sans MS; background-color:black;box-shadow: 8px 8px 0px #aaa; text-align:center; width: 50%; color:white\">Correction</div>\n",
    "</div>"
   ]
  },
  {
   "cell_type": "markdown",
   "metadata": {},
   "source": [
    "<h1 style=\"font-family:Comic Sans MS;color:white;background-color:black;text-align:center\"> Exercice 1 : </h1>"
   ]
  },
  {
   "cell_type": "markdown",
   "metadata": {},
   "source": [
    "<span style='color:white;font-weight:bold;background-color:black;width:12px;padding: 2px;font-size:20px'>1.</span>"
   ]
  },
  {
   "cell_type": "code",
   "execution_count": 1,
   "metadata": {},
   "outputs": [
    {
     "data": {
      "text/plain": [
       "2.0"
      ]
     },
     "execution_count": 1,
     "metadata": {},
     "output_type": "execute_result"
    }
   ],
   "source": [
    "4 / 2"
   ]
  },
  {
   "cell_type": "code",
   "execution_count": 2,
   "metadata": {},
   "outputs": [
    {
     "data": {
      "text/plain": [
       "2"
      ]
     },
     "execution_count": 2,
     "metadata": {},
     "output_type": "execute_result"
    }
   ],
   "source": [
    "4 // 2"
   ]
  },
  {
   "cell_type": "markdown",
   "metadata": {},
   "source": [
    "<span style='color:white;font-weight:bold;background-color:black;width:12px;padding: 2px;font-size:20px'>2.</span>"
   ]
  },
  {
   "cell_type": "markdown",
   "metadata": {},
   "source": [
    "> C'est la deuxième division qui founrnit un entier car c'est le quotient de la division euclidienne de $4$ par $2$."
   ]
  },
  {
   "cell_type": "markdown",
   "metadata": {},
   "source": [
    "<h1 style=\"font-family:Comic Sans MS;color:white;background-color:black;text-align:center\"> Exercice 2 : </h1>"
   ]
  },
  {
   "cell_type": "markdown",
   "metadata": {},
   "source": [
    "<span style='color:white;font-weight:bold;background-color:black;width:12px;padding: 2px;font-size:20px'>1.</span>"
   ]
  },
  {
   "cell_type": "markdown",
   "metadata": {},
   "source": [
    "<span style='color:white;font-weight:bold;background-color:#F0573B;padding: 2px;font-size:20px'>a.</span>"
   ]
  },
  {
   "cell_type": "code",
   "execution_count": 3,
   "metadata": {},
   "outputs": [
    {
     "data": {
      "text/plain": [
       "4.0"
      ]
     },
     "execution_count": 3,
     "metadata": {},
     "output_type": "execute_result"
    }
   ],
   "source": [
    "3 * (1/3 + 1)"
   ]
  },
  {
   "cell_type": "markdown",
   "metadata": {},
   "source": [
    "<span style='color:white;font-weight:bold;background-color:#F0573B;padding: 2px;font-size:20px'>b.</span>"
   ]
  },
  {
   "cell_type": "markdown",
   "metadata": {},
   "source": [
    "$3\\times\\left(\\dfrac{1}{3}+1\\right)=3\\times\\dfrac{4}{3}=\\boxed{4}$"
   ]
  },
  {
   "cell_type": "markdown",
   "metadata": {},
   "source": [
    "<span style='color:white;font-weight:bold;background-color:black;width:12px;padding: 2px;font-size:20px'>2.</span>"
   ]
  },
  {
   "cell_type": "code",
   "execution_count": 4,
   "metadata": {},
   "outputs": [
    {
     "data": {
      "text/plain": [
       "1024"
      ]
     },
     "execution_count": 4,
     "metadata": {},
     "output_type": "execute_result"
    }
   ],
   "source": [
    "2**10"
   ]
  },
  {
   "cell_type": "markdown",
   "metadata": {},
   "source": [
    "<span style='color:white;font-weight:bold;background-color:black;width:12px;padding: 2px;font-size:20px'>3.</span>"
   ]
  },
  {
   "cell_type": "markdown",
   "metadata": {},
   "source": [
    "<span style='color:white;font-weight:bold;background-color:#F0573B;padding: 2px;font-size:20px'>a.</span>"
   ]
  },
  {
   "cell_type": "code",
   "execution_count": 5,
   "metadata": {},
   "outputs": [
    {
     "data": {
      "text/plain": [
       "True"
      ]
     },
     "execution_count": 5,
     "metadata": {},
     "output_type": "execute_result"
    }
   ],
   "source": [
    "18**2 + 80**2 == 82**2"
   ]
  },
  {
   "cell_type": "markdown",
   "metadata": {},
   "source": [
    "> Cette instruction teste si l'égalité $$18^2+80^2=82^2$$ est vraie.\n",
    "<br>\n",
    "<b>Ce qui est vraie ici</b>"
   ]
  },
  {
   "cell_type": "markdown",
   "metadata": {},
   "source": [
    "<span style='color:white;font-weight:bold;background-color:#F0573B;padding: 2px;font-size:20px'>b.</span>"
   ]
  },
  {
   "cell_type": "markdown",
   "metadata": {},
   "source": [
    ">Le triangle de mesures $18$, $80$ et $82$ est rectangle, d'après le théorème de <b>Pythagore</b>."
   ]
  },
  {
   "cell_type": "markdown",
   "metadata": {},
   "source": [
    "<span style='color:white;font-weight:bold;background-color:#F0573B;padding: 2px;font-size:20px'>c.</span>"
   ]
  },
  {
   "cell_type": "markdown",
   "metadata": {},
   "source": [
    "> Testons avec Python l'égalité : $$0,18^2+0,80^2=0,82^2$$"
   ]
  },
  {
   "cell_type": "code",
   "execution_count": 6,
   "metadata": {},
   "outputs": [
    {
     "data": {
      "text/plain": [
       "False"
      ]
     },
     "execution_count": 6,
     "metadata": {},
     "output_type": "execute_result"
    }
   ],
   "source": [
    "0.18**2 + 0.80**2 == 0.82**2"
   ]
  },
  {
   "cell_type": "markdown",
   "metadata": {},
   "source": [
    "> <ul>\n",
    "    <li><b>Ce calcul est-il juste ?</b>\n",
    "    $$\\begin{array}{rcll}\n",
    "    0,18^{2}+0,80^{2} & = & \\left(\\dfrac{18}{100}\\right)^{2}+\\left(\\dfrac{80}{100}\\right)^{2}\\\\\n",
    "     & = & \\dfrac{18^{2}}{100^{2}}+\\dfrac{80^{2}}{100^{2}}\\\\\n",
    "     & = & \\dfrac{18^{2}+80^{2}}{100^{2}}\\\\\n",
    "     & = & \\dfrac{82^{2}}{100^{2}} & \\text{, d'après le calcul précédent}\\\\\n",
    "     & = & \\left(\\dfrac{82}{100}\\right)^{2}\\\\\n",
    "     & = & 0,82^{2}\n",
    "    \\end{array}$$\n",
    "    Donc l'égalité est <b><u>vraie</u></b> mais <b>le test d'égalité de python est faux ! </b>.</li>\n",
    "    <br>\n",
    "    <li><b>Conséquence : </b> D'après Pythagore, le triangle de mesures $0,18$cm, $0,80$cm et $0,82$cm est rectangle.</li>\n",
    "    <br>\n",
    "    <li><b>A retenir : </b> tester l'égalité de deux flottants  <u>n'est pas conseillé avec python</u>, car leur représentation n'est pas excate !!</li>\n",
    "    </ul>"
   ]
  },
  {
   "cell_type": "markdown",
   "metadata": {},
   "source": [
    "<h1 style=\"font-family:Comic Sans MS;color:white;background-color:black;text-align:center\"> Exercice 3 : </h1>"
   ]
  },
  {
   "cell_type": "markdown",
   "metadata": {},
   "source": [
    "<span style='color:white;font-weight:bold;background-color:black;width:12px;padding: 2px;font-size:20px'>1.</span>"
   ]
  },
  {
   "cell_type": "code",
   "execution_count": 7,
   "metadata": {},
   "outputs": [
    {
     "data": {
      "text/plain": [
       "0"
      ]
     },
     "execution_count": 7,
     "metadata": {},
     "output_type": "execute_result"
    }
   ],
   "source": [
    "51 % 3"
   ]
  },
  {
   "cell_type": "markdown",
   "metadata": {},
   "source": [
    "> \"$51$ est <b>divisible</b> par <b>$3$</b>\"."
   ]
  },
  {
   "cell_type": "markdown",
   "metadata": {},
   "source": [
    "<span style='color:white;font-weight:bold;background-color:black;width:12px;padding: 2px;font-size:20px'>2.</span>"
   ]
  },
  {
   "cell_type": "code",
   "execution_count": 8,
   "metadata": {},
   "outputs": [
    {
     "data": {
      "text/plain": [
       "17"
      ]
     },
     "execution_count": 8,
     "metadata": {},
     "output_type": "execute_result"
    }
   ],
   "source": [
    "51 // 3"
   ]
  },
  {
   "cell_type": "markdown",
   "metadata": {},
   "source": [
    ">Ceci représente le quotient de la division euclienne de $51$ par $3$ et <br>$$\\boxed{51=17\\times 3}.$$"
   ]
  },
  {
   "cell_type": "markdown",
   "metadata": {},
   "source": [
    "<h1 style=\"font-family:Comic Sans MS;color:white;background-color:black;text-align:center\">A : Somme d'entiers consécutifs (page 8)</h1>"
   ]
  },
  {
   "cell_type": "markdown",
   "metadata": {},
   "source": [
    "<b><u>Programme de calcul :</u></b>\n",
    "<div style=\"background-color:lightblue\">\n",
    "<ul> \n",
    "    <li>s=0 et k=1</li>\n",
    "    <li>Répéter 5 fois les instructions suivantes :\n",
    "        <ul>\n",
    "            <li> s prend la valeur s+k</li>\n",
    "            <li> k prend la valeur k+1</li>\n",
    "        </ul>\n",
    "    </ul>\n",
    "</div>"
   ]
  },
  {
   "cell_type": "markdown",
   "metadata": {},
   "source": [
    "<span style='color:white;font-weight:bold;background-color:black;width:12px;padding: 2px;font-size:20px'>1.</span> On peut utiliser un tableau pour lister à chaque étape du programme, le contenu de chaque variable :"
   ]
  },
  {
   "cell_type": "markdown",
   "metadata": {},
   "source": [
    "<table border=0 cellpadding=0 cellspacing=0 width=174 style='border-collapse:\n",
    " collapse;table-layout:fixed;width:130pt'>\n",
    " <col width=87 span=2 style='width:65pt'>\n",
    " <tr height=21 style='height:16.0pt'>\n",
    "  <td height=21 class=xl65 width=87 style='height:16.0pt;width:65pt'>S</td>\n",
    "  <td class=xl65 width=87 style='border-left:none;width:65pt'>k</td>\n",
    " </tr>\n",
    " <tr height=21 style='height:16.0pt'>\n",
    "  <td height=21 class=xl63 align=right style='height:16.0pt;border-top:none'>0</td>\n",
    "  <td class=xl64 style='border-top:none;border-left:none;background-color:black'>&nbsp;</td>\n",
    " </tr>\n",
    " <tr height=21 style='height:16.0pt'>\n",
    "  <td height=21 class=xl63 align=right style='height:16.0pt;border-top:none'>0</td>\n",
    "  <td class=xl63 align=right style='border-top:none;border-left:none'>1</td>\n",
    " </tr>\n",
    " <tr height=21 style='height:16.0pt'>\n",
    "  <td height=21 class=xl63 align=right style='height:16.0pt;border-top:none'>1</td>\n",
    "  <td class=xl63 align=right style='border-top:none;border-left:none'>2</td>\n",
    " </tr>\n",
    " <tr height=21 style='height:16.0pt'>\n",
    "  <td height=21 class=xl63 align=right style='height:16.0pt;border-top:none'>3</td>\n",
    "  <td class=xl63 align=right style='border-top:none;border-left:none'>3</td>\n",
    " </tr>\n",
    " <tr height=21 style='height:16.0pt'>\n",
    "  <td height=21 class=xl63 align=right style='height:16.0pt;border-top:none'>6</td>\n",
    "  <td class=xl63 align=right style='border-top:none;border-left:none'>4</td>\n",
    " </tr>\n",
    " <tr height=21 style='height:16.0pt'>\n",
    "  <td height=21 class=xl63 align=right style='height:16.0pt;border-top:none'>10</td>\n",
    "  <td class=xl63 align=right style='border-top:none;border-left:none'>5</td>\n",
    " </tr>\n",
    " <tr height=21 style='height:16.0pt'>\n",
    "  <td height=21 class=xl63 align=right style='height:16.0pt;border-top:none;background-color:coral'>15</td>\n",
    "  <td class=xl63 align=right style='border-top:none;border-left:none;background-color:coral'>6</td>\n",
    " </tr>\n",
    " <tr height=0 style='display:none'>\n",
    "  <td width=87 style='width:65pt'></td>\n",
    "  <td width=87 style='width:65pt'></td>\n",
    " </tr>\n",
    "</table>\n",
    "<b>Il est important d'exécuter un algorithme à la main et utiliser un tableau pour renseigner le contenu des variables mises en jeu.</b>"
   ]
  },
  {
   "cell_type": "markdown",
   "metadata": {},
   "source": [
    "<span style='color:white;font-weight:bold;background-color:black;width:12px;padding: 2px;font-size:20px'>2.</span>"
   ]
  },
  {
   "cell_type": "markdown",
   "metadata": {},
   "source": [
    "<div style=\"background-color:lightblue\">\n",
    "Pour répéter l'instruction S prend la valeur S+k pour k allant de 1 jusque 5, on écrit :\n",
    "    \n",
    "```python\n",
    "\n",
    "s = 0\n",
    "for k in range(1, 6):\n",
    "    s = s + k\n",
    "```\n",
    "\n",
    "qui se lit :\n",
    "```html\n",
    "\n",
    "pour k allant de 1 jusque 6 exclu faire:\n",
    "     s prend la valeur s + k\n",
    "\n",
    "```\n",
    "\n",
    "</div>"
   ]
  },
  {
   "cell_type": "markdown",
   "metadata": {},
   "source": [
    "<span style='color:white;font-weight:bold;background-color:#F0573B;padding: 2px;font-size:20px'>a.</span> Exécutons le code suivant "
   ]
  },
  {
   "cell_type": "code",
   "execution_count": 9,
   "metadata": {},
   "outputs": [
    {
     "name": "stdout",
     "output_type": "stream",
     "text": [
      "1 1\n",
      "3 2\n",
      "6 3\n",
      "10 4\n",
      "15 5\n"
     ]
    }
   ],
   "source": [
    "s = 0\n",
    "for k in range(1, 6):\n",
    "    s = s + k\n",
    "    print(s, k)"
   ]
  },
  {
   "cell_type": "markdown",
   "metadata": {},
   "source": [
    "> On voit bien que l'on a répété l'instruction s prend la valeur s + k, <br>5 fois de suite pour k allant de 1 à 5."
   ]
  },
  {
   "cell_type": "markdown",
   "metadata": {},
   "source": [
    "<span style='color:white;font-weight:bold;background-color:#F0573B;padding: 2px;font-size:20px'>b.</span> Les variables sont <b>k</b> et <b>s</b>."
   ]
  },
  {
   "cell_type": "markdown",
   "metadata": {},
   "source": [
    "<span style='color:white;font-weight:bold;background-color:#F0573B;padding: 2px;font-size:20px'>c.</span> On a : $$\\boxed{s=1+2+3+4+5}$$"
   ]
  },
  {
   "cell_type": "markdown",
   "metadata": {},
   "source": [
    "<span style='color:white;font-weight:bold;background-color:black;width:12px;padding: 2px;font-size:20px'>3.</span>"
   ]
  },
  {
   "cell_type": "markdown",
   "metadata": {},
   "source": [
    "<span style='color:white;font-weight:bold;background-color:#F0573B;padding: 2px;font-size:20px'>a.</span> Exécutons : "
   ]
  },
  {
   "cell_type": "code",
   "execution_count": 10,
   "metadata": {},
   "outputs": [
    {
     "name": "stdout",
     "output_type": "stream",
     "text": [
      "1\n",
      "2\n",
      "3\n",
      "4\n",
      "5\n",
      "6\n",
      "7\n",
      "8\n",
      "9\n"
     ]
    }
   ],
   "source": [
    "for k in range(1, 10):\n",
    "    print(k)"
   ]
  },
  {
   "cell_type": "markdown",
   "metadata": {},
   "source": [
    "> Pour chaque valeur entière <b>k</b> allant de 1 jusque 10 <b>exclu</b>, on affiche <b>k</b>"
   ]
  },
  {
   "cell_type": "markdown",
   "metadata": {},
   "source": [
    "<span style='color:white;font-weight:bold;background-color:#F0573B;padding: 2px;font-size:20px'>b.</span> On a :"
   ]
  },
  {
   "cell_type": "markdown",
   "metadata": {},
   "source": [
    "<table border=0 cellpadding=0 cellspacing=0 width=396 style='border-collapse:\n",
    " collapse;table-layout:fixed;width:296pt'>\n",
    " <col width=103 style='mso-width-source:userset;mso-width-alt:3285;width:77pt'>\n",
    " <col width=87 span=2 style='width:65pt'>\n",
    " <col width=119 style='mso-width-source:userset;mso-width-alt:3797;width:89pt'>\n",
    " <tr height=21 style='height:16.0pt'>\n",
    "  <td height=21 width=103 style='height:16.0pt;width:77pt'></td>\n",
    "  <td colspan=3 class=xl66 width=293 style='width:219pt'>Ensemble des entiers k\n",
    "  allant<span style='mso-spacerun:yes'> </span></td>\n",
    " </tr>\n",
    " <tr height=21 style='height:16.0pt'>\n",
    "  <td height=21 style='height:16.0pt'></td>\n",
    "  <td class=xl67 style='border-top:none'>de<span\n",
    "  style='mso-spacerun:yes'> </span></td>\n",
    "  <td class=xl67 style='border-top:none;border-left:none'>jusque<span\n",
    "  style='mso-spacerun:yes'> </span></td>\n",
    "  <td class=xl67 style='border-top:none;border-left:none'>nombre d'entiers</td>\n",
    " </tr>\n",
    " <tr height=21 style='height:16.0pt'>\n",
    "  <td height=21 class=xl68 style='height:16.0pt'>range(1, 8)</td>\n",
    "  <td class=xl65 align=right style='border-left:none'>1</td>\n",
    "  <td class=xl65 align=right style='border-left:none'>7</td>\n",
    "  <td class=xl65 align=right style='border-left:none'>7</td>\n",
    " </tr>\n",
    " <tr height=21 style='height:16.0pt'>\n",
    "  <td height=21 class=xl68 style='height:16.0pt;border-top:none'>range(8)</td>\n",
    "  <td class=xl65 align=right style='border-top:none;border-left:none'>0</td>\n",
    "  <td class=xl65 align=right style='border-top:none;border-left:none'>7</td>\n",
    "  <td class=xl65 align=right style='border-top:none;border-left:none'>8</td>\n",
    " </tr>\n",
    " <tr height=21 style='height:16.0pt'>\n",
    "  <td height=21 class=xl68 style='height:16.0pt;border-top:none'>range(2, 101)</td>\n",
    "  <td class=xl65 align=right style='border-top:none;border-left:none'>2</td>\n",
    "  <td class=xl65 align=right style='border-top:none;border-left:none'>100</td>\n",
    "  <td class=xl65 align=right style='border-top:none;border-left:none'>99</td>\n",
    " </tr>\n",
    " <tr height=21 style='height:16.0pt'>\n",
    "  <td height=21 class=xl68 style='height:16.0pt;border-top:none'>range(-4, 5)</td>\n",
    "  <td class=xl65 align=right style='border-top:none;border-left:none'>-4</td>\n",
    "  <td class=xl65 align=right style='border-top:none;border-left:none'>4</td>\n",
    "  <td class=xl65 align=right style='border-top:none;border-left:none'>9</td>\n",
    " </tr>\n",
    "\n",
    " <tr height=0 style='display:none'>\n",
    "  <td width=103 style='width:77pt'></td>\n",
    "  <td width=87 style='width:65pt'></td>\n",
    "  <td width=87 style='width:65pt'></td>\n",
    "  <td width=119 style='width:89pt'></td>\n",
    " </tr>\n",
    "</table>"
   ]
  },
  {
   "cell_type": "markdown",
   "metadata": {},
   "source": [
    "<span style='color:white;font-weight:bold;background-color:black;width:12px;padding: 2px;font-size:20px'>4.</span>"
   ]
  },
  {
   "cell_type": "code",
   "execution_count": 11,
   "metadata": {},
   "outputs": [
    {
     "data": {
      "text/plain": [
       "5050"
      ]
     },
     "execution_count": 11,
     "metadata": {},
     "output_type": "execute_result"
    }
   ],
   "source": [
    "s = 0\n",
    "for k in range(1, 101):\n",
    "    s = s + k\n",
    "s"
   ]
  },
  {
   "cell_type": "markdown",
   "metadata": {},
   "source": [
    "<span style='color:white;font-weight:bold;background-color:black;width:12px;padding: 2px;font-size:20px'>5.</span>"
   ]
  },
  {
   "cell_type": "markdown",
   "metadata": {},
   "source": [
    "<span style='color:white;font-weight:bold;background-color:#F0573B;padding: 2px;font-size:20px'>a.</span> Exécutons :"
   ]
  },
  {
   "cell_type": "code",
   "execution_count": 12,
   "metadata": {},
   "outputs": [],
   "source": [
    "def somme(n):\n",
    "    s = 0\n",
    "    for k in range(1, n+1):\n",
    "        s = s + k\n",
    "    return s"
   ]
  },
  {
   "cell_type": "markdown",
   "metadata": {},
   "source": [
    "<blockquote style=\"border-left: 10px solid black;background-color:#8FD5E4\">\n",
    "    ICI on vient de <b>définir</b> la fonction nommée <b>somme</b> de paramètre <b>n</b> qui <b>renvoie</b> $$1+2+\\cdots +n.$$\n",
    "    <b>Il est normal que rien ne s'affiche !</b>\n",
    "</blockquote>"
   ]
  },
  {
   "cell_type": "markdown",
   "metadata": {},
   "source": [
    "<span style='color:white;font-weight:bold;background-color:#F0573B;padding: 2px;font-size:20px'>b.</span>"
   ]
  },
  {
   "cell_type": "code",
   "execution_count": 13,
   "metadata": {},
   "outputs": [
    {
     "data": {
      "text/plain": [
       "55"
      ]
     },
     "execution_count": 13,
     "metadata": {},
     "output_type": "execute_result"
    }
   ],
   "source": [
    "somme(10)"
   ]
  },
  {
   "cell_type": "markdown",
   "metadata": {},
   "source": [
    "> somme(10) renvoie $$1+2+\\cdots +10.$$\n",
    "On vient de faire appel à la fonction <b>somme</b> pour <b>n</b>=10."
   ]
  },
  {
   "cell_type": "markdown",
   "metadata": {},
   "source": [
    "<span style='color:white;font-weight:bold;background-color:#F0573B;padding: 2px;font-size:20px'>c.</span>"
   ]
  },
  {
   "cell_type": "code",
   "execution_count": 14,
   "metadata": {},
   "outputs": [
    {
     "data": {
      "text/plain": [
       "5050"
      ]
     },
     "execution_count": 14,
     "metadata": {},
     "output_type": "execute_result"
    }
   ],
   "source": [
    "somme(100)"
   ]
  },
  {
   "cell_type": "markdown",
   "metadata": {},
   "source": [
    "> somme(100) renvoie $$1+2+\\cdots +100.$$\n",
    "On vient de faire appel à la fonction <b>somme</b> pour <b>n</b>=10."
   ]
  },
  {
   "cell_type": "markdown",
   "metadata": {},
   "source": [
    "<h1 style=\"font-family:Comic Sans MS;color:white;background-color:black;text-align:center\"> Exercice 4 : </h1>"
   ]
  },
  {
   "cell_type": "markdown",
   "metadata": {},
   "source": [
    "<span style='color:white;font-weight:bold;background-color:black;width:12px;padding: 2px;font-size:20px'>1.</span>"
   ]
  },
  {
   "cell_type": "code",
   "execution_count": 15,
   "metadata": {},
   "outputs": [
    {
     "name": "stdout",
     "output_type": "stream",
     "text": [
      "banane\n",
      "banane\n",
      "banane\n",
      "banane\n",
      "banane\n",
      "banane\n",
      "banane\n",
      "banane\n",
      "banane\n",
      "banane\n"
     ]
    }
   ],
   "source": [
    "for k in range(1, 11):\n",
    "    print('banane')"
   ]
  },
  {
   "cell_type": "markdown",
   "metadata": {},
   "source": [
    "<blockquote>\n",
    "    On aurait pu écrire : \n",
    "    \n",
    "```python\n",
    "for k in range(10):\n",
    "    print('banane')\n",
    "```\n",
    "Les valeurs de <b>k</b> vont de 0 jusque 10 exclu donc : \n",
    "<ul>\n",
    "    <li>ce sont les entiers de 0, 1, 2, ..., 9</li>\n",
    "    <li>Il y en a 10 et la boucle for sera exécutée 10 fois</li>\n",
    "</ul>\n",
    "</blockquote>"
   ]
  },
  {
   "cell_type": "markdown",
   "metadata": {},
   "source": [
    "<span style='color:white;font-weight:bold;background-color:black;width:12px;padding: 2px;font-size:20px'>2.</span>"
   ]
  },
  {
   "cell_type": "code",
   "execution_count": 16,
   "metadata": {},
   "outputs": [
    {
     "name": "stdout",
     "output_type": "stream",
     "text": [
      "1\n",
      "2\n",
      "3\n",
      "4\n",
      "5\n",
      "6\n",
      "7\n",
      "8\n",
      "9\n",
      "10\n",
      "11\n",
      "12\n",
      "13\n",
      "14\n",
      "15\n",
      "16\n",
      "17\n",
      "18\n",
      "19\n",
      "20\n",
      "21\n",
      "22\n",
      "23\n",
      "24\n",
      "25\n",
      "26\n",
      "27\n",
      "28\n",
      "29\n",
      "30\n",
      "31\n",
      "32\n",
      "33\n",
      "34\n",
      "35\n",
      "36\n",
      "37\n",
      "38\n",
      "39\n",
      "40\n",
      "41\n",
      "42\n",
      "43\n",
      "44\n",
      "45\n",
      "46\n",
      "47\n",
      "48\n",
      "49\n",
      "50\n"
     ]
    }
   ],
   "source": [
    "for k in range(1, 51):\n",
    "    print(k)"
   ]
  },
  {
   "cell_type": "markdown",
   "metadata": {},
   "source": [
    "<h1 style=\"font-family:Comic Sans MS;color:white;background-color:black;text-align:center\"> Exercice 5 : </h1>"
   ]
  },
  {
   "cell_type": "markdown",
   "metadata": {},
   "source": [
    "<span style='color:white;font-weight:bold;background-color:black;width:12px;padding: 2px;font-size:20px'>1.</span>"
   ]
  },
  {
   "cell_type": "code",
   "execution_count": 17,
   "metadata": {},
   "outputs": [],
   "source": [
    "def factorielle(n):\n",
    "    p = 1\n",
    "    for k in range(1, n+1):\n",
    "        p = p * k\n",
    "    return p"
   ]
  },
  {
   "cell_type": "markdown",
   "metadata": {},
   "source": [
    "<blockquote>\n",
    "    La fonction a pour :\n",
    "<ul>\n",
    "    <li> nom : <b>factorielle</b></li>\n",
    "    <li> paramètre : <b>n</b></li>\n",
    "</ul>\n",
    "        \n",
    "</blockquote>"
   ]
  },
  {
   "cell_type": "markdown",
   "metadata": {},
   "source": [
    "<span style='color:white;font-weight:bold;background-color:black;width:12px;padding: 2px;font-size:20px'>2.</span>"
   ]
  },
  {
   "cell_type": "markdown",
   "metadata": {},
   "source": [
    "<span style='color:white;font-weight:bold;background-color:#F0573B;padding: 2px;font-size:20px'>a.</span>"
   ]
  },
  {
   "cell_type": "code",
   "execution_count": 18,
   "metadata": {},
   "outputs": [
    {
     "data": {
      "text/plain": [
       "120"
      ]
     },
     "execution_count": 18,
     "metadata": {},
     "output_type": "execute_result"
    }
   ],
   "source": [
    "factorielle(5)"
   ]
  },
  {
   "cell_type": "markdown",
   "metadata": {},
   "source": [
    "<span style='color:white;font-weight:bold;background-color:#F0573B;padding: 2px;font-size:20px'>b.</span>"
   ]
  },
  {
   "cell_type": "markdown",
   "metadata": {},
   "source": [
    "> On obtient $120$"
   ]
  },
  {
   "cell_type": "markdown",
   "metadata": {},
   "source": [
    "<span style='color:white;font-weight:bold;background-color:black;width:12px;padding: 2px;font-size:20px'>3.</span>"
   ]
  },
  {
   "cell_type": "code",
   "execution_count": 19,
   "metadata": {},
   "outputs": [
    {
     "data": {
      "text/plain": [
       "720"
      ]
     },
     "execution_count": 19,
     "metadata": {},
     "output_type": "execute_result"
    }
   ],
   "source": [
    "factorielle(6)"
   ]
  },
  {
   "cell_type": "markdown",
   "metadata": {},
   "source": [
    "<h1 style=\"font-family:Comic Sans MS;color:white;background-color:black;text-align:center\"> Exercice 6 : </h1>"
   ]
  },
  {
   "cell_type": "markdown",
   "metadata": {},
   "source": [
    "<span style='color:white;font-weight:bold;background-color:black;width:12px;padding: 2px;font-size:20px'>1.</span>"
   ]
  },
  {
   "cell_type": "markdown",
   "metadata": {},
   "source": [
    "<blockquote>\n",
    "On a : \n",
    "    <div id=\"Classeur1_23668\" align=center x:publishsource=\"Excel\">\n",
    "\n",
    "<table border=0 cellpadding=0 cellspacing=0 width=609 style='border-collapse:\n",
    " collapse;table-layout:fixed;width:455pt'>\n",
    " <col width=87 span=7 style='width:65pt'>\n",
    " <tr height=21 style='height:16.0pt'>\n",
    "  <td height=21 width=87 style='height:16.0pt;width:65pt'></td>\n",
    "  <td class=xl63 width=87 style='width:65pt'>Au départ</td>\n",
    "  <td width=87 style='width:65pt'></td>\n",
    "  <td width=87 style='width:65pt'></td>\n",
    "  <td width=87 style='width:65pt'></td>\n",
    "  <td width=87 style='width:65pt'></td>\n",
    "  <td width=87 style='width:65pt'></td>\n",
    " </tr>\n",
    " <tr height=21 style='height:16.0pt'>\n",
    "  <td height=21 class=xl65 style='height:16.0pt'>k</td>\n",
    "  <td class=xl64 style='border-top:none;border-left:none;background-color:black'>&nbsp;</td>\n",
    "  <td class=xl63 align=right style='border-left:none'>1</td>\n",
    "  <td class=xl63 align=right style='border-left:none'>2</td>\n",
    "  <td class=xl63 align=right style='border-left:none'>3</td>\n",
    "  <td class=xl63 align=right style='border-left:none'>4</td>\n",
    "  <td class=xl63 align=right style='border-left:none'>5</td>\n",
    " </tr>\n",
    " <tr height=21 style='height:16.0pt'>\n",
    "  <td height=21 class=xl65 style='height:16.0pt;border-top:none'>S</td>\n",
    "  <td class=xl63 align=right style='border-top:none;border-left:none'>0</td>\n",
    "  <td class=xl63 align=right style='border-top:none;border-left:none'>2</td>\n",
    "  <td class=xl63 align=right style='border-top:none;border-left:none'>4</td>\n",
    "  <td class=xl63 align=right style='border-top:none;border-left:none'>6</td>\n",
    "  <td class=xl63 align=right style='border-top:none;border-left:none'>8</td>\n",
    "  <td class=xl63 align=right style='border-top:none;border-left:none'>10</td>\n",
    " </tr>\n",
    " <tr height=0 style='display:none'>\n",
    "  <td width=87 style='width:65pt'></td>\n",
    "  <td width=87 style='width:65pt'></td>\n",
    "  <td width=87 style='width:65pt'></td>\n",
    "  <td width=87 style='width:65pt'></td>\n",
    "  <td width=87 style='width:65pt'></td>\n",
    "  <td width=87 style='width:65pt'></td>\n",
    "  <td width=87 style='width:65pt'></td>\n",
    " </tr>\n",
    "</table>\n",
    "        \n",
    "</blockquote>"
   ]
  },
  {
   "cell_type": "markdown",
   "metadata": {},
   "source": [
    "<span style='color:white;font-weight:bold;background-color:black;width:12px;padding: 2px;font-size:20px'>2.</span>"
   ]
  },
  {
   "cell_type": "code",
   "execution_count": 20,
   "metadata": {},
   "outputs": [
    {
     "data": {
      "text/plain": [
       "10"
      ]
     },
     "execution_count": 20,
     "metadata": {},
     "output_type": "execute_result"
    }
   ],
   "source": [
    "S = 0\n",
    "for k in range(1, 6):\n",
    "    S = S + 2\n",
    "S"
   ]
  },
  {
   "cell_type": "markdown",
   "metadata": {},
   "source": [
    "<h1 style=\"font-family:Comic Sans MS;color:white;background-color:black;text-align:center\"> Exercice 7 : </h1>"
   ]
  },
  {
   "cell_type": "code",
   "execution_count": 21,
   "metadata": {},
   "outputs": [],
   "source": [
    "def distance(a, b):\n",
    "    if a <= b:\n",
    "        return b - a\n",
    "    else:\n",
    "        return a - b"
   ]
  },
  {
   "cell_type": "code",
   "execution_count": 22,
   "metadata": {},
   "outputs": [
    {
     "data": {
      "text/plain": [
       "1.7999999999999998"
      ]
     },
     "execution_count": 22,
     "metadata": {},
     "output_type": "execute_result"
    }
   ],
   "source": [
    "distance(2.5, 4.3)"
   ]
  },
  {
   "cell_type": "markdown",
   "metadata": {},
   "source": [
    "> <b>Rappel</b> un nombre réel est représenté en machine par son nombre  <b>flottants</b> MAIS il arrive que celui ne tombe pas juste, ici c'est 4.3 qui ne représente pas correctement $4,3$.\n",
    "<br>\n",
    "<br><b>Exemple : </b> le nombre réel $0,1$ est représenté en machine par le nombre flottant 0.1 et $$0,1\\neq 0.1$$ \n",
    "En effet :"
   ]
  },
  {
   "cell_type": "code",
   "execution_count": 23,
   "metadata": {},
   "outputs": [
    {
     "data": {
      "text/plain": [
       "0.30000000000000004"
      ]
     },
     "execution_count": 23,
     "metadata": {},
     "output_type": "execute_result"
    }
   ],
   "source": [
    "3*0.1"
   ]
  },
  {
   "cell_type": "markdown",
   "metadata": {},
   "source": [
    "<h1 style=\"font-family:Comic Sans MS;color:white;background-color:black;text-align:center\"> Exercice 8 : </h1>"
   ]
  },
  {
   "cell_type": "markdown",
   "metadata": {},
   "source": [
    "<span style='color:white;font-weight:bold;background-color:black;width:12px;padding: 2px;font-size:20px'>1.</span> "
   ]
  },
  {
   "cell_type": "code",
   "execution_count": 24,
   "metadata": {},
   "outputs": [
    {
     "data": {
      "text/plain": [
       "True"
      ]
     },
     "execution_count": 24,
     "metadata": {},
     "output_type": "execute_result"
    }
   ],
   "source": [
    "1236 % 2 == 0"
   ]
  },
  {
   "cell_type": "markdown",
   "metadata": {},
   "source": [
    "> Cela signifie que 2 divise bien 1236."
   ]
  },
  {
   "cell_type": "markdown",
   "metadata": {},
   "source": [
    "<span style='color:white;font-weight:bold;background-color:black;width:12px;padding: 2px;font-size:20px'>2.</span>"
   ]
  },
  {
   "cell_type": "code",
   "execution_count": 25,
   "metadata": {},
   "outputs": [],
   "source": [
    "def parité(n):\n",
    "    if n % 2 == 0:\n",
    "        print(n, ' est pair')\n",
    "    else:\n",
    "        print(n, ' est impair')"
   ]
  },
  {
   "cell_type": "code",
   "execution_count": 26,
   "metadata": {},
   "outputs": [
    {
     "name": "stdout",
     "output_type": "stream",
     "text": [
      "1236  est pair\n"
     ]
    }
   ],
   "source": [
    "parité(1236)"
   ]
  },
  {
   "cell_type": "code",
   "execution_count": 27,
   "metadata": {},
   "outputs": [
    {
     "name": "stdout",
     "output_type": "stream",
     "text": [
      "999  est impair\n"
     ]
    }
   ],
   "source": [
    "parité(999)"
   ]
  },
  {
   "cell_type": "markdown",
   "metadata": {},
   "source": [
    "<h1 style=\"font-family:Comic Sans MS;color:white;background-color:black;text-align:center\"> Exercice 9 : </h1>"
   ]
  },
  {
   "cell_type": "code",
   "execution_count": 28,
   "metadata": {},
   "outputs": [],
   "source": [
    "def nb_div(n):\n",
    "    c = 0\n",
    "    for k in range(1, n+1):\n",
    "        if n%k == 0:\n",
    "            c = c + 1\n",
    "    return c"
   ]
  },
  {
   "cell_type": "code",
   "execution_count": 29,
   "metadata": {},
   "outputs": [
    {
     "data": {
      "text/plain": [
       "6"
      ]
     },
     "execution_count": 29,
     "metadata": {},
     "output_type": "execute_result"
    }
   ],
   "source": [
    "nb_div(12)"
   ]
  },
  {
   "cell_type": "markdown",
   "metadata": {},
   "source": [
    "<h1 style=\"font-family:Comic Sans MS;color:white;background-color:black;text-align:center\"> Exercice 10 : </h1>"
   ]
  },
  {
   "cell_type": "markdown",
   "metadata": {},
   "source": [
    "<span style='color:white;font-weight:bold;background-color:black;width:12px;padding: 2px;font-size:20px'>1.</span>"
   ]
  },
  {
   "cell_type": "code",
   "execution_count": 30,
   "metadata": {},
   "outputs": [],
   "source": [
    "def diviseurs2(n):\n",
    "    D = [1]\n",
    "    for div in range(2, n+1):\n",
    "        if n%div == 0:\n",
    "            D.append(div)\n",
    "    return D"
   ]
  },
  {
   "cell_type": "markdown",
   "metadata": {},
   "source": [
    "<span style='color:white;font-weight:bold;background-color:black;width:12px;padding: 2px;font-size:20px'>2.</span>"
   ]
  },
  {
   "cell_type": "code",
   "execution_count": 31,
   "metadata": {},
   "outputs": [
    {
     "data": {
      "text/plain": [
       "[1, 3, 5, 15, 25, 75]"
      ]
     },
     "execution_count": 31,
     "metadata": {},
     "output_type": "execute_result"
    }
   ],
   "source": [
    "D1 = diviseurs2(75)\n",
    "D1"
   ]
  },
  {
   "cell_type": "code",
   "execution_count": 32,
   "metadata": {},
   "outputs": [
    {
     "data": {
      "text/plain": [
       "[1, 3, 5, 7, 15, 21, 35, 105]"
      ]
     },
     "execution_count": 32,
     "metadata": {},
     "output_type": "execute_result"
    }
   ],
   "source": [
    "D2 = diviseurs2(105)\n",
    "D2"
   ]
  },
  {
   "cell_type": "markdown",
   "metadata": {},
   "source": [
    "<span style='color:white;font-weight:bold;background-color:black;width:12px;padding: 2px;font-size:20px'>3.</span>"
   ]
  },
  {
   "cell_type": "code",
   "execution_count": 33,
   "metadata": {},
   "outputs": [
    {
     "data": {
      "text/plain": [
       "[1, 3, 5, 15]"
      ]
     },
     "execution_count": 33,
     "metadata": {},
     "output_type": "execute_result"
    }
   ],
   "source": [
    "D3 = [d1 for d1 in D1 if d1 in D2]\n",
    "D3"
   ]
  },
  {
   "cell_type": "markdown",
   "metadata": {},
   "source": [
    "> <b>D3</b> est l'ensemble <u>des diviseurs communs</u> de 75 et 105. "
   ]
  },
  {
   "cell_type": "markdown",
   "metadata": {},
   "source": [
    "<span style='color:white;font-weight:bold;background-color:black;width:12px;padding: 2px;font-size:20px'>4.</span> "
   ]
  },
  {
   "cell_type": "code",
   "execution_count": 34,
   "metadata": {},
   "outputs": [
    {
     "data": {
      "text/plain": [
       "15"
      ]
     },
     "execution_count": 34,
     "metadata": {},
     "output_type": "execute_result"
    }
   ],
   "source": [
    "max(D3)"
   ]
  },
  {
   "cell_type": "markdown",
   "metadata": {},
   "source": [
    "<span style='color:white;font-weight:bold;background-color:black;width:12px;padding: 2px;font-size:20px'>5.</span>"
   ]
  },
  {
   "cell_type": "code",
   "execution_count": 35,
   "metadata": {},
   "outputs": [],
   "source": [
    "def pgcd(a, b):\n",
    "    Da = diviseurs2(a)\n",
    "    Db = diviseurs2(b)\n",
    "    Dcommuns = [d for d in Da if d in Db]\n",
    "    return max(Dcommuns)"
   ]
  },
  {
   "cell_type": "code",
   "execution_count": 36,
   "metadata": {},
   "outputs": [
    {
     "data": {
      "text/plain": [
       "425"
      ]
     },
     "execution_count": 36,
     "metadata": {},
     "output_type": "execute_result"
    }
   ],
   "source": [
    "pgcd(20400, 265625)"
   ]
  },
  {
   "cell_type": "markdown",
   "metadata": {},
   "source": [
    "<h1 style=\"font-family:Comic Sans MS;color:white;background-color:black;text-align:center\"> Exercice 11 : </h1>"
   ]
  },
  {
   "cell_type": "markdown",
   "metadata": {},
   "source": [
    "<span style='color:white;font-weight:bold;background-color:black;width:12px;padding: 2px;font-size:20px'>1.</span>"
   ]
  },
  {
   "cell_type": "code",
   "execution_count": 37,
   "metadata": {},
   "outputs": [],
   "source": [
    "def pgcd(a, b):\n",
    "    if b == 0:\n",
    "        return a\n",
    "    else:\n",
    "        r = a%b\n",
    "        return pgcd(b, r)"
   ]
  },
  {
   "cell_type": "markdown",
   "metadata": {},
   "source": [
    "<span style='color:white;font-weight:bold;background-color:black;width:12px;padding: 2px;font-size:20px'>2.</span>"
   ]
  },
  {
   "cell_type": "code",
   "execution_count": 38,
   "metadata": {},
   "outputs": [
    {
     "data": {
      "text/plain": [
       "2"
      ]
     },
     "execution_count": 38,
     "metadata": {},
     "output_type": "execute_result"
    }
   ],
   "source": [
    "pgcd(212, 86)"
   ]
  },
  {
   "cell_type": "code",
   "execution_count": 39,
   "metadata": {},
   "outputs": [
    {
     "data": {
      "text/plain": [
       "425"
      ]
     },
     "execution_count": 39,
     "metadata": {},
     "output_type": "execute_result"
    }
   ],
   "source": [
    "pgcd(20400, 265625)"
   ]
  },
  {
   "cell_type": "markdown",
   "metadata": {},
   "source": [
    "<h1 style=\"font-family:Comic Sans MS;color:white;background-color:black;text-align:center\"> Exercice 12 : </h1>"
   ]
  },
  {
   "cell_type": "code",
   "execution_count": 40,
   "metadata": {},
   "outputs": [],
   "source": [
    "def bissextile(n):\n",
    "    if n % 400 == 0:\n",
    "        return True\n",
    "    else:\n",
    "        if n % 4 == 0 and n % 100 >0:\n",
    "            return True\n",
    "    return False"
   ]
  },
  {
   "cell_type": "code",
   "execution_count": 41,
   "metadata": {},
   "outputs": [
    {
     "data": {
      "text/plain": [
       "True"
      ]
     },
     "execution_count": 41,
     "metadata": {},
     "output_type": "execute_result"
    }
   ],
   "source": [
    "bissextile(2000)"
   ]
  },
  {
   "cell_type": "code",
   "execution_count": 42,
   "metadata": {},
   "outputs": [
    {
     "data": {
      "text/plain": [
       "False"
      ]
     },
     "execution_count": 42,
     "metadata": {},
     "output_type": "execute_result"
    }
   ],
   "source": [
    "bissextile(2001)"
   ]
  },
  {
   "cell_type": "code",
   "execution_count": 43,
   "metadata": {},
   "outputs": [
    {
     "data": {
      "text/plain": [
       "True"
      ]
     },
     "execution_count": 43,
     "metadata": {},
     "output_type": "execute_result"
    }
   ],
   "source": [
    "bissextile(2020)"
   ]
  },
  {
   "cell_type": "markdown",
   "metadata": {},
   "source": [
    "> Code encode plus naturel "
   ]
  },
  {
   "cell_type": "code",
   "execution_count": 44,
   "metadata": {},
   "outputs": [],
   "source": [
    "def bissextile_bis(n):\n",
    "    if n % 400 == 0: \n",
    "        return True\n",
    "    elif n % 100 == 0: \n",
    "        return False\n",
    "    elif n % 4 == 0:\n",
    "        return True    "
   ]
  },
  {
   "cell_type": "code",
   "execution_count": null,
   "metadata": {},
   "outputs": [],
   "source": []
  }
 ],
 "metadata": {
  "kernelspec": {
   "display_name": "Python 3",
   "language": "python",
   "name": "python3"
  },
  "language_info": {
   "codemirror_mode": {
    "name": "ipython",
    "version": 3
   },
   "file_extension": ".py",
   "mimetype": "text/x-python",
   "name": "python",
   "nbconvert_exporter": "python",
   "pygments_lexer": "ipython3",
   "version": "3.6.9"
  }
 },
 "nbformat": 4,
 "nbformat_minor": 2
}

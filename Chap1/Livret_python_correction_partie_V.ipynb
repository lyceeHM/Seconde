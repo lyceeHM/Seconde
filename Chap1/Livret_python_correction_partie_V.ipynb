{
 "cells": [
  {
   "cell_type": "markdown",
   "metadata": {},
   "source": [
    "<img src=\"https://raw.githubusercontent.com/lyceeHM/Terminale_Spe/master/python_lycee.png\">\n",
    "<div id=\"titre\">\n",
    "<h1 style=\"color:white;\n",
    "  font-family:Comic Sans MS;\n",
    "  font-size:3em;\n",
    "  background-color:black;\n",
    "  text-align:center;\n",
    "  padding:5px\">Livret Python</h1>\n",
    "<div style=\"font-family:Comic Sans MS; background-color:#888;box-shadow: 8px 8px 0px #aaa; text-align:center; width: 50%; color:white\">Seconde</div>\n",
    "</div>"
   ]
  },
  {
   "cell_type": "markdown",
   "metadata": {},
   "source": [
    "<div style=\"color:black;font-weight:bold\"> <span style=\"font-size:10em\">IV</span> <span style=\"font-family:Comic Sans MS;font-size:2em;color:white;background-color:gray;text-align:center\"> Boucle \"while\"</span></div> "
   ]
  },
  {
   "cell_type": "markdown",
   "metadata": {},
   "source": [
    "<h1 style=\"font-family:Comic Sans MS;color:white;background-color:black;text-align:center\"> Exercice 20 : </h1>"
   ]
  },
  {
   "cell_type": "markdown",
   "metadata": {},
   "source": [
    "<blockquote> On peut utiliser un tableau pour lister à chaque étape, le contenu de chaque variable :\n",
    "\n",
    "<table>\n",
    " <col width=180 span =4>\n",
    " <tr>\n",
    "  <td style=\"text-align: center;border: 1px solid black;\">Condition</td>\n",
    "  <td style=\"text-align: center;border: 1px solid black;\">En python</td>\n",
    "  <td style=\"text-align: center;border: 1px solid black;\">Condition contraire</td>\n",
    "  <td style=\"text-align: center;border: 1px solid black;\">En python</td>   \n",
    " </tr>\n",
    "    <tr>\n",
    "  <td style=\"text-align: right;border: 1px solid black;\">$x>2$</td>\n",
    "        <td style=\"text-align: right;border: 1px solid black;\"><code style=\"background-color:white\">x > 2</code></td>\n",
    "  <td style=\"text-align: right;border: 1px solid black;\">$x\\leqslant 2$</td>\n",
    "  <td style=\"text-align: right;border: 1px solid black;\"><code style=\"background-color:white\"> x <= 2 </code></td>\n",
    " </tr>\n",
    "    <tr>\n",
    "  <td style=\"text-align: right;border: 1px solid black;\">$x\\geqslant 3$</td>\n",
    "  <td style=\"text-align: right;border: 1px solid black;\"><code style=\"background-color:white\">x >= 3</code></td>\n",
    "  <td style=\"text-align: right;border: 1px solid black;\">$x<3$</td>\n",
    "  <td style=\"text-align: right;border: 1px solid black;\"><code style=\"background-color:white\">x < 2 </code></td>\n",
    " </tr>\n",
    "    <tr>\n",
    "  <td style=\"text-align: right;border: 1px solid black;\">$x<4$</td>\n",
    "  <td style=\"text-align: right;border: 1px solid black;\"><code style=\"background-color:white\">x < 2</code></td>\n",
    "  <td style=\"text-align: right;border: 1px solid black;\">$x\\geqslant 4$</td>\n",
    "  <td style=\"text-align: right;border: 1px solid black;\"><code style=\"background-color:white\">x >= 4</code></td>\n",
    " </tr>\n",
    "    <tr>\n",
    "  <td style=\"text-align: right;border: 1px solid black;\">$U\\geqslant 10^3$</td>\n",
    "  <td style=\"text-align: right;border: 1px solid black;\"><code style=\"background-color:white\">U >= 10 ** 3</code></td>\n",
    "  <td style=\"text-align: right;border: 1px solid black;\">$U<10^3$</td>\n",
    "  <td style=\"text-align: right;border: 1px solid black;\"><code style=\"background-color:white\">U < 10 ** 3</code></td>\n",
    " </tr>\n",
    "    <tr>\n",
    "  <td style=\"text-align: right;border: 1px solid black;\">$U<10^{-4}$</td>\n",
    "  <td style=\"text-align: right;border: 1px solid black;\"><code style=\"background-color:white\">U < 10 ** (-4)</code></td>\n",
    "  <td style=\"text-align: right;border: 1px solid black;\">$U\\geqslant 10^{-4}$</td>\n",
    "  <td style=\"text-align: right;border: 1px solid black;\"><code style=\"background-color:white\">U >= 10 ** (-4)</code></td>\n",
    " </tr>\n",
    "    <tr>\n",
    "  <td style=\"text-align: right;border: 1px solid black;\">$U\\geqslant 0\\text{ et }U<1$</td>\n",
    "  <td style=\"text-align: right;border: 1px solid black;\"><code style=\"background-color:white\">U >= 0 and U < 1</code></td>\n",
    "  <td style=\"text-align: right;border: 1px solid black;\">$U< 0\\text{ ou }U\\geqslant 1$</td>\n",
    "  <td style=\"text-align: right;border: 1px solid black;\"><code style=\"background-color:white\">U < 0 or U >= 1</code></td>\n",
    " </tr>\n",
    "    <tr>\n",
    "  <td style=\"text-align: right;\"></td>\n",
    "  <td style=\"text-align: right;border: 1px solid black;\"><code style=\"background-color:white\">0 <= U < 1</code></td>\n",
    "  <td style=\"text-align: right;\"></td>\n",
    "  <td style=\"text-align: right;\"></td>\n",
    " </tr>\n",
    " \n",
    "\n",
    "</table>\n",
    "    \n",
    "</blockquote>"
   ]
  },
  {
   "cell_type": "markdown",
   "metadata": {},
   "source": [
    "<h1 style=\"font-family:Comic Sans MS;color:white;background-color:black;text-align:center\"> Exercice 21 : </h1>"
   ]
  },
  {
   "cell_type": "markdown",
   "metadata": {},
   "source": [
    "<blockquote>\n",
    "    <b>Algorithme 1 :</b>\n",
    "    \n",
    "```python\n",
    "n = 0\n",
    "while n != 10:\n",
    "    n = n + 1\n",
    "print(n)\n",
    "```\n",
    " <b>Résultats ?</b>\n",
    "<br><code style=\"background-color:white\"> n </code> contient la valeur 10\n",
    "    \n",
    "<br>\n",
    "    \n",
    "<b>Algorithme 2 :</b>\n",
    "    \n",
    "```python\n",
    "x = 0\n",
    "while x < 1:\n",
    "    x = x - 1\n",
    "    print(x)    \n",
    "```\n",
    " <b>Résultats ?</b>\n",
    "<ul>\n",
    "    <li><code style=\"background-color:white\"> x = 0 </code></li>\n",
    "    <li><code style=\"background-color:white\"> x </code> ne cesse de diminuer de 1. </li>\n",
    "    <li> <code style=\"background-color:white\">x < 1</code> est toujours vraie et la boucle <code style=\"background-color:white\">while</code> tourne indéfiniment !</li>\n",
    "</ul>\n",
    "</blockquote>"
   ]
  },
  {
   "cell_type": "markdown",
   "metadata": {},
   "source": [
    "<h1 style=\"font-family:Comic Sans MS;color:white;background-color:black;text-align:center\"> Exercice 22 : </h1>"
   ]
  },
  {
   "cell_type": "code",
   "execution_count": 1,
   "metadata": {},
   "outputs": [
    {
     "name": "stdout",
     "output_type": "stream",
     "text": [
      "71\n"
     ]
    }
   ],
   "source": [
    "n = 0\n",
    "while n ** 2 < 5004:\n",
    "    n = n + 1\n",
    "print(n)"
   ]
  },
  {
   "cell_type": "markdown",
   "metadata": {},
   "source": [
    "<span style=\"font-size:2em;font-weight:bold\">1.</span> Instruction répétée : \n",
    "```python\n",
    "n = n + 1\n",
    "```"
   ]
  },
  {
   "cell_type": "markdown",
   "metadata": {},
   "source": [
    "<span style=\"font-size:2em;font-weight:bold\">2.</span> Condition\n",
    "```python\n",
    "n ** 2 < 5004\n",
    "```"
   ]
  },
  {
   "cell_type": "markdown",
   "metadata": {},
   "source": [
    "<span style=\"font-size:2em;font-weight:bold\">3.</span> Condition pour ne plus être exécutée\n",
    "```python\n",
    "n ** 2 >= 5004\n",
    "```"
   ]
  },
  {
   "cell_type": "markdown",
   "metadata": {},
   "source": [
    "<span style=\"font-size:2em;font-weight:bold\">4.</span> Après exécution de la boucle <code style=\"background-color:white\">while</code>, la valeur de <code style=\"background-color:white\">n</code> en mémoire vérifie $n^2\\geqslant 5004$."
   ]
  },
  {
   "cell_type": "markdown",
   "metadata": {},
   "source": [
    "<span style=\"font-size:2em;font-weight:bold\">5.</span> $71$ a son carré $\\geqslant 5004$."
   ]
  },
  {
   "cell_type": "markdown",
   "metadata": {},
   "source": [
    "<span style=\"font-size:2em;font-weight:bold\">6.</span> $70$ a son carré $< 5004$."
   ]
  },
  {
   "cell_type": "markdown",
   "metadata": {},
   "source": [
    "<h1 style=\"font-family:Comic Sans MS;color:white;background-color:black;text-align:center\"> Exercice 23 : </h1>"
   ]
  },
  {
   "cell_type": "code",
   "execution_count": 2,
   "metadata": {},
   "outputs": [
    {
     "name": "stdout",
     "output_type": "stream",
     "text": [
      "17\n"
     ]
    }
   ],
   "source": [
    "n = 1\n",
    "while n ** 3 <= 5004:\n",
    "    n = n + 1\n",
    "print(n - 1)"
   ]
  },
  {
   "cell_type": "markdown",
   "metadata": {},
   "source": [
    "> $17^3 \\leqslant 5004$ mais $18^3 > 5004$"
   ]
  },
  {
   "cell_type": "markdown",
   "metadata": {},
   "source": [
    "<h1 style=\"font-family:Comic Sans MS;color:white;background-color:black;text-align:center\"> Exercice 24 : </h1>"
   ]
  },
  {
   "cell_type": "code",
   "execution_count": 3,
   "metadata": {},
   "outputs": [
    {
     "name": "stdout",
     "output_type": "stream",
     "text": [
      "12\n"
     ]
    }
   ],
   "source": [
    "n = 1\n",
    "while (2 / 3) ** n > 0.01:\n",
    "    n = n + 1\n",
    "print(n)"
   ]
  },
  {
   "cell_type": "markdown",
   "metadata": {},
   "source": [
    "> $\\left(\\dfrac{2}{3}\\right)^{12} \\leqslant 0,01$ mais $\\left(\\dfrac{2}{3}\\right)^{11} > 0,01$"
   ]
  },
  {
   "cell_type": "markdown",
   "metadata": {},
   "source": [
    "<h1 style=\"font-family:Comic Sans MS;color:white;background-color:black;text-align:center\"> Exercice 25 : </h1>"
   ]
  },
  {
   "cell_type": "markdown",
   "metadata": {},
   "source": [
    "<span style=\"font-size:2em;font-weight:bold\">1.</span>"
   ]
  },
  {
   "cell_type": "code",
   "execution_count": 4,
   "metadata": {},
   "outputs": [],
   "source": [
    "def mul(a, b):\n",
    "    k = 1\n",
    "    while a * k <= b:\n",
    "        k = k + 1\n",
    "    return a * (k-1)"
   ]
  },
  {
   "cell_type": "markdown",
   "metadata": {},
   "source": [
    "<span style=\"font-size:2em;font-weight:bold\">2.</span>"
   ]
  },
  {
   "cell_type": "code",
   "execution_count": 5,
   "metadata": {},
   "outputs": [
    {
     "data": {
      "text/plain": [
       "98"
      ]
     },
     "execution_count": 5,
     "metadata": {},
     "output_type": "execute_result"
    }
   ],
   "source": [
    "mul(7, 100)"
   ]
  },
  {
   "cell_type": "markdown",
   "metadata": {},
   "source": [
    "> $98$ est le plus grand pultiple de $7$ inférieur ou égal à $100$"
   ]
  },
  {
   "cell_type": "markdown",
   "metadata": {},
   "source": [
    "<h1 style=\"font-family:Comic Sans MS;color:white;background-color:black;text-align:center\"> Exercice 26 : </h1>"
   ]
  },
  {
   "cell_type": "markdown",
   "metadata": {},
   "source": [
    "<span style=\"font-size:2em;font-weight:bold\">1.</span>"
   ]
  },
  {
   "cell_type": "markdown",
   "metadata": {},
   "source": [
    "<blockquote> \n",
    "\n",
    "<table>\n",
    " <col width=100 span =3>\n",
    " <tr>\n",
    "  <td style=\"text-align: center;border: 1px solid black;\"><code style=\"background-color:white\">n</code></td>\n",
    "  <td style=\"text-align: center;border: 1px solid black;\"><code style=\"background-color:white\">n % 10</code></td>\n",
    "  <td style=\"text-align: center;border: 1px solid black;\"><code style=\"background-color:white\">n // 10</code></td>\n",
    " </tr>\n",
    "    <tr>\n",
    "  <td style=\"text-align: right;border: 1px solid black;\">$1789$</td>\n",
    "        <td style=\"text-align: right;border: 1px solid black;\">$9$</td>\n",
    "        <td style=\"text-align: right;border: 1px solid black;\">$178$</td>\n",
    " </tr>\n",
    "   <tr>\n",
    "  <td style=\"text-align: right;border: 1px solid black;\">$178$</td>\n",
    "        <td style=\"text-align: right;border: 1px solid black;\">$8$</td>\n",
    "        <td style=\"text-align: right;border: 1px solid black;\">$17$</td>\n",
    " </tr>\n",
    "    <tr>\n",
    "  <td style=\"text-align: right;border: 1px solid black;\">$17$</td>\n",
    "        <td style=\"text-align: right;border: 1px solid black;\">$7$</td>\n",
    "        <td style=\"text-align: right;border: 1px solid black;\">$1$</td>\n",
    " </tr>\n",
    "    <tr>\n",
    "  <td style=\"text-align: right;border: 1px solid black;\">$1$</td>\n",
    "        <td style=\"text-align: right;border: 1px solid black;\">$1$</td>\n",
    "        <td style=\"text-align: right;border: 1px solid black;\">$0$</td>\n",
    " </tr>\n",
    "    <tr>\n",
    "  <td style=\"text-align: right;border: 1px solid black;\">$0$</td>\n",
    "        <td style=\"text-align: right;border: 1px solid black;\"></td>\n",
    "        <td style=\"text-align: right;border: 1px solid black;\"></td>\n",
    " </tr>\n",
    " \n",
    "\n",
    "</table>\n",
    "    \n",
    "</blockquote>"
   ]
  },
  {
   "cell_type": "markdown",
   "metadata": {},
   "source": [
    "<span style=\"font-size:2em;font-weight:bold\">2.</span>"
   ]
  },
  {
   "cell_type": "code",
   "execution_count": 6,
   "metadata": {},
   "outputs": [],
   "source": [
    "def chiffres(n):\n",
    "    while n != 0:\n",
    "        print(n % 10)\n",
    "        n = n // 10"
   ]
  },
  {
   "cell_type": "code",
   "execution_count": 7,
   "metadata": {},
   "outputs": [
    {
     "name": "stdout",
     "output_type": "stream",
     "text": [
      "9\n",
      "8\n",
      "7\n",
      "1\n"
     ]
    }
   ],
   "source": [
    "chiffres(1789)"
   ]
  },
  {
   "cell_type": "markdown",
   "metadata": {},
   "source": [
    "<h1 style=\"font-family:Comic Sans MS;color:white;background-color:black;text-align:center\"> Exercice 28 : </h1>"
   ]
  },
  {
   "cell_type": "markdown",
   "metadata": {},
   "source": [
    "<span style=\"font-size:2em;font-weight:bold\">1.</span>"
   ]
  },
  {
   "cell_type": "markdown",
   "metadata": {},
   "source": [
    "> $1789$ est composé de $4$ chiffres."
   ]
  },
  {
   "cell_type": "markdown",
   "metadata": {},
   "source": [
    "<span style=\"font-size:2em;font-weight:bold\">2.</span>"
   ]
  },
  {
   "cell_type": "markdown",
   "metadata": {},
   "source": [
    "> Si $10^4\\leqslant n <10^5$, alors $n$ est composé de $5$ chiffres"
   ]
  },
  {
   "cell_type": "markdown",
   "metadata": {},
   "source": [
    "<span style=\"font-size:2em;font-weight:bold\">3.</span>"
   ]
  },
  {
   "cell_type": "markdown",
   "metadata": {},
   "source": [
    "<blockquote>\n",
    "$p=0$ \n",
    "<br>Tant que $10^p\\leqslant 18\\,362$, on effectue l'instruction <span style='background-color:orange'>$p\\leftarrow p + 1$ </span>\n",
    "<br> La boucle Tant que cesse de fonctionner lorsque $10^p> 18\\,362$.\n",
    "<br> On trouve $p=5$\n",
    "</blockquote>"
   ]
  },
  {
   "cell_type": "markdown",
   "metadata": {},
   "source": [
    "<span style=\"font-size:2em;font-weight:bold\">4.</span>"
   ]
  },
  {
   "cell_type": "code",
   "execution_count": 8,
   "metadata": {},
   "outputs": [],
   "source": [
    "def nbchiffres(n):\n",
    "    p = 0\n",
    "    while n >= 10 ** p:\n",
    "        p = p + 1\n",
    "    return p"
   ]
  },
  {
   "cell_type": "code",
   "execution_count": 9,
   "metadata": {},
   "outputs": [
    {
     "data": {
      "text/plain": [
       "31"
      ]
     },
     "execution_count": 9,
     "metadata": {},
     "output_type": "execute_result"
    }
   ],
   "source": [
    "nbchiffres(2 ** 100)"
   ]
  },
  {
   "cell_type": "markdown",
   "metadata": {},
   "source": [
    "> Ainsi $2^{100}$ est composé de $31$ chiffres dans son écriture décimale."
   ]
  },
  {
   "cell_type": "markdown",
   "metadata": {},
   "source": [
    "<h1 style=\"font-family:Comic Sans MS;color:white;background-color:black;text-align:center\"> Exercice 29 : </h1>"
   ]
  },
  {
   "cell_type": "markdown",
   "metadata": {},
   "source": [
    ">Chaque année, le capital augmente de 4%, donc il est multiplié par $1,04$."
   ]
  },
  {
   "cell_type": "code",
   "execution_count": 10,
   "metadata": {},
   "outputs": [
    {
     "name": "stdout",
     "output_type": "stream",
     "text": [
      "2036\n"
     ]
    }
   ],
   "source": [
    "K = 1000\n",
    "A = 2018\n",
    "while K < 2000:\n",
    "    K = 1.04 * K\n",
    "    A = A + 1\n",
    "print(A)"
   ]
  },
  {
   "cell_type": "markdown",
   "metadata": {},
   "source": [
    "> Il fait attendre 2036, pour voir le capital doubler."
   ]
  },
  {
   "cell_type": "markdown",
   "metadata": {},
   "source": [
    "<h1 style=\"font-family:Comic Sans MS;color:white;background-color:black;text-align:center\"> Exercice 30 : </h1>"
   ]
  },
  {
   "cell_type": "markdown",
   "metadata": {},
   "source": [
    "<span style=\"font-size:2em;font-weight:bold\">1.</span>"
   ]
  },
  {
   "cell_type": "code",
   "execution_count": 11,
   "metadata": {},
   "outputs": [],
   "source": [
    "def som_chif(n):\n",
    "    s = 0\n",
    "    while n != 0:\n",
    "        s = s + n % 10\n",
    "        n = n // 10\n",
    "    return s"
   ]
  },
  {
   "cell_type": "markdown",
   "metadata": {},
   "source": [
    "<span style=\"font-size:2em;font-weight:bold\">2.</span>"
   ]
  },
  {
   "cell_type": "code",
   "execution_count": 12,
   "metadata": {},
   "outputs": [
    {
     "data": {
      "text/plain": [
       "19"
      ]
     },
     "execution_count": 12,
     "metadata": {},
     "output_type": "execute_result"
    }
   ],
   "source": [
    "som_chif(1783)"
   ]
  },
  {
   "cell_type": "markdown",
   "metadata": {},
   "source": [
    "<h1 style=\"font-family:Comic Sans MS;color:white;background-color:black;text-align:center\"> Exercice 31 : </h1>"
   ]
  },
  {
   "cell_type": "code",
   "execution_count": 13,
   "metadata": {},
   "outputs": [
    {
     "name": "stdout",
     "output_type": "stream",
     "text": [
      "1994\n",
      "2012\n"
     ]
    }
   ],
   "source": [
    "for n in range(2017):\n",
    "    if n + som_chif(n) == 2017:\n",
    "        print(n)"
   ]
  },
  {
   "cell_type": "markdown",
   "metadata": {},
   "source": [
    "<h1 style=\"font-family:Comic Sans MS;color:white;background-color:black;text-align:center\"> Exercice 32 : </h1>"
   ]
  },
  {
   "cell_type": "markdown",
   "metadata": {},
   "source": [
    ">Créons la fonction nommée <code style='background-color:white'>nb9</code> de paramètre <code style='background-color:white'>n</code> qui renvoie le nombre de 9 contenus dans l'écriture décimale de <code style='background-color:white'>n</code>"
   ]
  },
  {
   "cell_type": "code",
   "execution_count": 14,
   "metadata": {},
   "outputs": [],
   "source": [
    "def nb9(n):\n",
    "    s = 0\n",
    "    while n != 0:\n",
    "        if n % 10 == 9:\n",
    "            s = s + 1\n",
    "        n = n // 10\n",
    "    return s"
   ]
  },
  {
   "cell_type": "markdown",
   "metadata": {},
   "source": [
    "> Parcourons l'ensemble des entiers de 1 à 1000 pour compter le nombre total de 9 lus parmi ces entiers :"
   ]
  },
  {
   "cell_type": "code",
   "execution_count": 15,
   "metadata": {},
   "outputs": [
    {
     "name": "stdout",
     "output_type": "stream",
     "text": [
      "300\n"
     ]
    }
   ],
   "source": [
    "N = 0\n",
    "for k in range(1, 1001):\n",
    "    N = N + nb9(k)\n",
    "print(N)"
   ]
  },
  {
   "cell_type": "markdown",
   "metadata": {},
   "source": [
    "<h1 style=\"font-family:Comic Sans MS;color:white;background-color:black;text-align:center\"> Exercice 33 : </h1>"
   ]
  },
  {
   "cell_type": "markdown",
   "metadata": {},
   "source": [
    "<span style=\"font-size:2em;font-weight:bold\">1.</span> <span style=\"font-size:1.5em;font-weight:bold\">a.</span>"
   ]
  },
  {
   "cell_type": "code",
   "execution_count": 16,
   "metadata": {},
   "outputs": [],
   "source": [
    "def div(n):\n",
    "    return [k for k in range(1, n + 1) if n % k == 0]"
   ]
  },
  {
   "cell_type": "markdown",
   "metadata": {},
   "source": [
    "<span style=\"font-size:1.5em;font-weight:bold\">b.</span>"
   ]
  },
  {
   "cell_type": "code",
   "execution_count": 17,
   "metadata": {},
   "outputs": [
    {
     "data": {
      "text/plain": [
       "[1, 3, 5, 15, 25, 75]"
      ]
     },
     "execution_count": 17,
     "metadata": {},
     "output_type": "execute_result"
    }
   ],
   "source": [
    "div(75)"
   ]
  },
  {
   "cell_type": "code",
   "execution_count": 18,
   "metadata": {},
   "outputs": [
    {
     "data": {
      "text/plain": [
       "[1, 3, 5, 7, 15, 21, 35, 105]"
      ]
     },
     "execution_count": 18,
     "metadata": {},
     "output_type": "execute_result"
    }
   ],
   "source": [
    "div(105)"
   ]
  },
  {
   "cell_type": "markdown",
   "metadata": {},
   "source": [
    "<span style=\"font-size:1.5em;font-weight:bold\">c.</span>"
   ]
  },
  {
   "cell_type": "markdown",
   "metadata": {},
   "source": [
    "> Le plus grand diviseur $75$ et de $105$ est le plus grand élément contenu dans les 2 listes précédentes : $\\boxed{15}$"
   ]
  },
  {
   "cell_type": "markdown",
   "metadata": {},
   "source": [
    "<span style=\"font-size:2em;font-weight:bold\">2.</span> <span style=\"font-size:1.5em;font-weight:bold\">a.</span>"
   ]
  },
  {
   "cell_type": "code",
   "execution_count": 19,
   "metadata": {},
   "outputs": [],
   "source": [
    "def inter(L1, L2):\n",
    "    return [x for x in L1 if x in L2]"
   ]
  },
  {
   "cell_type": "markdown",
   "metadata": {},
   "source": [
    "<span style=\"font-size:1.5em;font-weight:bold\">b.</span>"
   ]
  },
  {
   "cell_type": "code",
   "execution_count": 20,
   "metadata": {},
   "outputs": [
    {
     "data": {
      "text/plain": [
       "[1, 3, 5, 15]"
      ]
     },
     "execution_count": 20,
     "metadata": {},
     "output_type": "execute_result"
    }
   ],
   "source": [
    "inter(div(105), div(75))"
   ]
  },
  {
   "cell_type": "code",
   "execution_count": 21,
   "metadata": {},
   "outputs": [
    {
     "data": {
      "text/plain": [
       "15"
      ]
     },
     "execution_count": 21,
     "metadata": {},
     "output_type": "execute_result"
    }
   ],
   "source": [
    "def pgcd(a, b):\n",
    "    return max(inter(div(a), div(b)))\n",
    "pgcd(105, 75)"
   ]
  },
  {
   "cell_type": "markdown",
   "metadata": {},
   "source": [
    "<span style=\"font-size:1.5em;font-weight:bold\">c.</span>"
   ]
  },
  {
   "cell_type": "code",
   "execution_count": 22,
   "metadata": {},
   "outputs": [
    {
     "data": {
      "text/plain": [
       "25"
      ]
     },
     "execution_count": 22,
     "metadata": {},
     "output_type": "execute_result"
    }
   ],
   "source": [
    "pgcd(400, 265625)"
   ]
  },
  {
   "cell_type": "markdown",
   "metadata": {},
   "source": [
    "<h1 style=\"font-family:Comic Sans MS;color:white;background-color:black;text-align:center\"> Exercice 34 : </h1>"
   ]
  },
  {
   "cell_type": "code",
   "execution_count": 23,
   "metadata": {},
   "outputs": [],
   "source": [
    "def distributeur(n):\n",
    "    n20 = n // 20\n",
    "    reste = n % 20\n",
    "    n5 = reste // 5\n",
    "    reste = reste % 5\n",
    "    return n20, n5, reste"
   ]
  },
  {
   "cell_type": "code",
   "execution_count": 24,
   "metadata": {},
   "outputs": [
    {
     "data": {
      "text/plain": [
       "(11, 2, 1)"
      ]
     },
     "execution_count": 24,
     "metadata": {},
     "output_type": "execute_result"
    }
   ],
   "source": [
    "distributeur(231)"
   ]
  },
  {
   "cell_type": "code",
   "execution_count": null,
   "metadata": {},
   "outputs": [],
   "source": []
  }
 ],
 "metadata": {
  "kernelspec": {
   "display_name": "Python 3",
   "language": "python",
   "name": "python3"
  },
  "language_info": {
   "codemirror_mode": {
    "name": "ipython",
    "version": 3
   },
   "file_extension": ".py",
   "mimetype": "text/x-python",
   "name": "python",
   "nbconvert_exporter": "python",
   "pygments_lexer": "ipython3",
   "version": "3.8.6"
  }
 },
 "nbformat": 4,
 "nbformat_minor": 4
}

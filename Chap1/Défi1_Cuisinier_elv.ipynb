{
 "cells": [
  {
   "cell_type": "markdown",
   "metadata": {},
   "source": [
    "<img src=\"https://raw.githubusercontent.com/lyceeHM/Terminale_Spe/master/python_lycee.png\">\n",
    "<div id=\"titre\">\n",
    "<h1 style=\"color:white;\n",
    "  font-family:Comic Sans MS;\n",
    "  font-size:3em;\n",
    "  background-color:black;\n",
    "  text-align:center;\n",
    "  padding:5px\">Problème du cuisinier</h1>\n",
    "<div style=\"font-family:Comic Sans MS; background-color:#888;box-shadow: 8px 8px 0px #aaa; text-align:center; width: 50%; color:white\">Seconde : Chapitre 1 - les nombres</div>\n",
    "</div>"
   ]
  },
  {
   "cell_type": "markdown",
   "metadata": {},
   "source": [
    "<blockquote style=\"border-left: 3px solid black;background-color:white\">\n",
    "Une bande de 17 pirates s'est emparé d'un buttin d'au plus 1000 pièces d'or.\n",
    "<ul>\n",
    "    <li>Ils décident de se les partager également et de donner le reste de 3 pièces au cuisinier.</li>\n",
    "    <li>Les pirates se querellent hélàs et six d'entre eux sont tués. <br>Après répartition équitable du buttin, il est prévu que le cuisinier recoive le reste de 4 pièces d'or.</li>\n",
    "    <li>Comme si çà ne suffisait pas, une tempête emporte l'équipe et seulement 6 pirates survivent. Après partage équitable du buttin, le cuisinier reçu finalement un reste de 5 pièces d'or !</li>\n",
    "    </ul>\n",
    "   <br>\n",
    "Combien de pièces d'or constituent ce buttin ?\n",
    "</blockquote>"
   ]
  },
  {
   "cell_type": "markdown",
   "metadata": {},
   "source": [
    "<div style=\"color:black;font-size:2em;font-weight:bold\">Rappel :</div> <blockquote style=\"border-left: 5px solid black;background-color:#D0ECE7\">\n",
    "    <table>\n",
    "    <thead>\n",
    "        <tr>\n",
    "            <th scope=\"col\" style=\"text-align: center;border:2px solid black;background-color:white\">Conjonction</th>\n",
    "            <th scope=\"col\" style=\"text-align: center;border:2px solid black;background-color:white\">En python</th>\n",
    "        </tr>\n",
    "    </thead>\n",
    "    <tbody>\n",
    "        <tr>\n",
    "            <td width=\"100px\" style=\"text-align: center;border:2px solid black;background-color:white\">ou</td>\n",
    "            <td width=\"100px\" style=\"text-align: center;border:2px solid black;background-color:white\"><code style=\"background-color:white;background-color:white\">or</code></td>\n",
    "        </tr>\n",
    "        <tr>\n",
    "            <td style=\"text-align: center;text-align: center;border:2px solid black;background-color:white\">et</td>\n",
    "             <td width=\"100px\" style=\"text-align: center;border:2px solid black;background-color:white\"><code style=\"background-color:white;background-color:white\">and</code></td>\n",
    "        </tr>\n",
    "        <tr>\n",
    "            <td style=\"text-align: center;text-align: center;border:2px solid black;background-color:white\">Quotient de $a\\div b$</td>\n",
    "             <td width=\"100px\" style=\"text-align: center;border:2px solid black;background-color:white\"><code style=\"background-color:white;background-color:white\">a // b</code></td>\n",
    "        </tr>\n",
    "        <tr>\n",
    "            <td style=\"text-align: center;text-align: center;border:2px solid black;background-color:white\">Reste de $a\\div b$</td>\n",
    "             <td width=\"100px\" style=\"text-align: center;border:2px solid black;background-color:white\"><code style=\"background-color:white;background-color:white\">a % b</code></td>\n",
    "        </tr>\n",
    "    </tbody>\n",
    "</table>\n",
    " </blockquote>"
   ]
  },
  {
   "cell_type": "code",
   "execution_count": null,
   "metadata": {},
   "outputs": [],
   "source": []
  },
  {
   "cell_type": "code",
   "execution_count": null,
   "metadata": {},
   "outputs": [],
   "source": []
  }
 ],
 "metadata": {
  "kernelspec": {
   "display_name": "Python 3",
   "language": "python",
   "name": "python3"
  },
  "language_info": {
   "codemirror_mode": {
    "name": "ipython",
    "version": 3
   },
   "file_extension": ".py",
   "mimetype": "text/x-python",
   "name": "python",
   "nbconvert_exporter": "python",
   "pygments_lexer": "ipython3",
   "version": "3.8.6"
  }
 },
 "nbformat": 4,
 "nbformat_minor": 4
}

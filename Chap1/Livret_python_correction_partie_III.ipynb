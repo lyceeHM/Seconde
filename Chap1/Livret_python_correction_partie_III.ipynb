{
 "cells": [
  {
   "cell_type": "markdown",
   "metadata": {},
   "source": [
    "<img src=\"https://raw.githubusercontent.com/lyceeHM/Terminale_Spe/master/python_lycee.png\">\n",
    "<div id=\"titre\">\n",
    "<h1 style=\"color:white;\n",
    "  font-family:Comic Sans MS;\n",
    "  font-size:3em;\n",
    "  background-color:black;\n",
    "  text-align:center;\n",
    "  padding:5px\">Livret Python</h1>\n",
    "<div style=\"font-family:Comic Sans MS; background-color:#888;box-shadow: 8px 8px 0px #aaa; text-align:center; width: 50%; color:white\">Seconde</div>\n",
    "</div>"
   ]
  },
  {
   "cell_type": "markdown",
   "metadata": {},
   "source": [
    "<div style=\"color:black;font-weight:bold\"> <span style=\"font-size:10em\">III</span> <span style=\"font-family:Comic Sans MS;font-size:2em;color:white;background-color:gray;text-align:center\"> Boucle \"for\" & fonctions </span></div> "
   ]
  },
  {
   "cell_type": "markdown",
   "metadata": {},
   "source": [
    "<h1 style=\"font-family:Comic Sans MS;color:white;background-color:black;text-align:center\"> Exercice 6 : </h1>"
   ]
  },
  {
   "cell_type": "markdown",
   "metadata": {},
   "source": [
    "<span style=\"font-size:2em;font-weight:bold\">1.</span> <span style=\"font-size:1.5em;font-weight:bold\">a.</span> "
   ]
  },
  {
   "cell_type": "markdown",
   "metadata": {},
   "source": [
    "<blockquote> On peut utiliser un tableau pour lister à chaque étape, le contenu de chaque variable :\n",
    "\n",
    "<table>\n",
    " <col width=90 span=2>\n",
    " <tr>\n",
    "  <td style=\"text-align: right;border: 1px solid black;\"><code style=\"backgrund-color:white\">k</code></td>\n",
    "  <td style=\"text-align: right;border: 1px solid black;\"><code style=\"backgrund-color:white\">S</code></td>\n",
    " </tr>\n",
    " <tr>\n",
    "  <td style=\"text-align: right;border: 1px solid black;background-color:black\">&nbsp;</td>\n",
    "  <td style=\"text-align: right;border: 1px solid black;\">0</td>\n",
    " </tr>\n",
    " <tr>\n",
    "  <td style=\"text-align: right;border: 1px solid black;\">1</td>\n",
    "  <td style=\"text-align: right;border: 1px solid black;\">1</td>\n",
    " </tr>\n",
    " <tr>\n",
    "  <td style=\"text-align: right;border: 1px solid black;\">2</td>\n",
    "  <td style=\"text-align: right;border: 1px solid black;\">3</td>\n",
    " </tr>\n",
    " <tr height=21 style='height:16.0pt'>\n",
    "  <td style=\"text-align: right;border: 1px solid black;\">3</td>\n",
    "  <td style=\"text-align: right;border: 1px solid black;\">6</td>\n",
    " </tr>\n",
    " <tr height=21 style='height:16.0pt'>\n",
    "  <td style=\"text-align: right;border: 1px solid black;\">4</td>\n",
    "  <td style=\"text-align: right;border: 1px solid black;\">10</td>\n",
    " </tr>\n",
    " <tr height=21 style='height:16.0pt'>\n",
    "  <td style=\"text-align: right;border: 1px solid black;background-color:coral\">5</td>\n",
    "  <td style=\"text-align: right;border: 1px solid black;background-color:coral\">15</td>\n",
    "    </tr>\n",
    "\n",
    "</table>\n",
    "    \n",
    "</blockquote>"
   ]
  },
  {
   "cell_type": "markdown",
   "metadata": {},
   "source": [
    "<span style=\"font-size:1.5em;font-weight:bold\">b.</span> "
   ]
  },
  {
   "cell_type": "code",
   "execution_count": 1,
   "metadata": {},
   "outputs": [
    {
     "name": "stdout",
     "output_type": "stream",
     "text": [
      "15\n"
     ]
    }
   ],
   "source": [
    "S = 0\n",
    "S = S + 1\n",
    "S = S + 2\n",
    "S = S + 3\n",
    "S = S + 4\n",
    "S = S + 5\n",
    "print(S)"
   ]
  },
  {
   "cell_type": "markdown",
   "metadata": {},
   "source": [
    "<span style=\"font-size:1.5em;font-weight:bold\">c.</span> "
   ]
  },
  {
   "cell_type": "markdown",
   "metadata": {},
   "source": [
    "> On affecte $\\boxed{0}$ à la variable <code style=\"background-color:white\">S</code>, puis on répète l'instruction <code style=\"background-color:white\">S + k</code> avec <code style=\"background-color:white\">k</code> allant de $\\boxed{1}$ à $\\boxed{5}$"
   ]
  },
  {
   "cell_type": "markdown",
   "metadata": {},
   "source": [
    "<span style=\"font-size:2em;font-weight:bold\">2.</span> <span style=\"font-size:1.5em;font-weight:bold\">a.</span> "
   ]
  },
  {
   "cell_type": "code",
   "execution_count": 2,
   "metadata": {},
   "outputs": [
    {
     "name": "stdout",
     "output_type": "stream",
     "text": [
      "1 1\n",
      "3 2\n",
      "6 3\n",
      "10 4\n",
      "15 5\n"
     ]
    }
   ],
   "source": [
    "S = 0\n",
    "for k in range(1, 6):\n",
    "    S = S + k\n",
    "    print(S, k)"
   ]
  },
  {
   "cell_type": "markdown",
   "metadata": {},
   "source": [
    "<span style=\"font-size:1.5em;font-weight:bold\">b.</span>  "
   ]
  },
  {
   "cell_type": "markdown",
   "metadata": {},
   "source": [
    "> <code style=\"background-color:white\">S</code> et <code style=\"background-color:white\">k</code> sont les seules variables."
   ]
  },
  {
   "cell_type": "markdown",
   "metadata": {},
   "source": [
    "<span style=\"font-size:1.5em;font-weight:bold\">c.</span>"
   ]
  },
  {
   "cell_type": "markdown",
   "metadata": {},
   "source": [
    "On a : $$\\boxed{S=1\\,+\\,2\\,+\\,3\\,+\\,4\\,+\\,5}$$"
   ]
  },
  {
   "cell_type": "markdown",
   "metadata": {},
   "source": [
    "<span style=\"font-size:2em;font-weight:bold\">3.</span> <span style=\"font-size:1.5em;font-weight:bold\">a.</span> "
   ]
  },
  {
   "cell_type": "code",
   "execution_count": 3,
   "metadata": {},
   "outputs": [
    {
     "name": "stdout",
     "output_type": "stream",
     "text": [
      "1\n",
      "2\n",
      "3\n",
      "4\n",
      "5\n",
      "6\n",
      "7\n",
      "8\n",
      "9\n"
     ]
    }
   ],
   "source": [
    "for k in range(1, 10):\n",
    "    print(k)"
   ]
  },
  {
   "cell_type": "markdown",
   "metadata": {},
   "source": [
    "<span style=\"font-size:1.5em;font-weight:bold\">b.</span>\n",
    "<table border=0 cellpadding=0 cellspacing=0 width=396>\n",
    " <col width=120 >\n",
    " <col width=100 span=2 style=\"text-align: right;border: 1px solid black;\">\n",
    " <col width=119 >\n",
    " <tr height=21 >\n",
    "  <td height=21 width=103 ></td>\n",
    "  <td colspan=3  style=\"text-align: center;border: 1px solid black;\" >Ensemble des entiers k\n",
    "  allant<span style='mso-spacerun:yes'> </span></td>\n",
    " </tr>\n",
    " <tr height=21 style=\"text-align: right;border: 1px solid black;\">\n",
    "  <td height=21 style=\"text-align: right;border: 1px solid black;\"></td>\n",
    "  <td class=xl67 style=\"text-align: right;border: 1px solid black;\">de<span\n",
    "  style='mso-spacerun:yes'> </span></td>\n",
    "  <td class=xl67 style='border-top:none;border-left:none'>jusque<span\n",
    "  style='mso-spacerun:yes'> </span></td>\n",
    "  <td class=xl67 style='border-top:none;border-left:none'>nombre d'entiers</td>\n",
    " </tr>\n",
    " <tr height=21 style=\"text-align: right;border: 1px solid black;\">\n",
    "  <td height=21 style=\"text-align: right;border: 1px solid black;\"><code style=\"background-color:white\">range(1, 8)</code></td>\n",
    "  <td class=xl65 style=\"text-align: right;border: 1px solid black;\">1</td>\n",
    "  <td class=xl65 style=\"text-align: right;border: 1px solid black;\">7</td>\n",
    "  <td class=xl65 style=\"text-align: right;border: 1px solid black;\">7</td>\n",
    " </tr>\n",
    " <tr height=21 style=\"text-align: right;border: 1px solid black;\">\n",
    "  <td height=21 style=\"text-align: right;border: 1px solid black;\"><code style=\"background-color:white\">range(8)</code></td>\n",
    "  <td class=xl65 style=\"text-align: right;border: 1px solid black;\">0</td>\n",
    "  <td class=xl65 style=\"text-align: right;border: 1px solid black;\">7</td>\n",
    "  <td class=xl65 style=\"text-align: right;border: 1px solid black;\">8</td>\n",
    " </tr>\n",
    " <tr style=\"text-align: right;border: 1px solid black;\">\n",
    "  <td style=\"text-align: right;border: 1px solid black;\"><code style=\"background-color:white\">range(2, 101)</code></td>\n",
    "  <td style=\"text-align: right;border: 1px solid black;\">2</td>\n",
    "  <td style=\"text-align: right;border: 1px solid black;\">100</td>\n",
    "  <td style=\"text-align: right;border: 1px solid black;\">99</td>\n",
    " </tr>\n",
    " <tr style=\"text-align: right;border: 1px solid black;\">\n",
    "  <td style=\"text-align: right;border: 1px solid black;\"><code style=\"background-color:white\">range(-4, 5)</code></td>\n",
    "  <td style=\"text-align: right;border: 1px solid black;\">-4</td>\n",
    "  <td style=\"text-align: right;border: 1px solid black;\">4</td>\n",
    "  <td style=\"text-align: right;border: 1px solid black;\">9</td>\n",
    " </tr>\n",
    "\n",
    " <tr height=0 style='display:none'>\n",
    "  <td width=103 style='width:77pt'></td>\n",
    "  <td width=87 style='width:65pt'></td>\n",
    "  <td width=87 style='width:65pt'></td>\n",
    "  <td width=119 style='width:89pt'></td>\n",
    " </tr>\n",
    "</table>"
   ]
  },
  {
   "cell_type": "markdown",
   "metadata": {},
   "source": [
    "<span style=\"font-size:2em;font-weight:bold\">4.</span>"
   ]
  },
  {
   "cell_type": "code",
   "execution_count": 4,
   "metadata": {},
   "outputs": [
    {
     "data": {
      "text/plain": [
       "55"
      ]
     },
     "execution_count": 4,
     "metadata": {},
     "output_type": "execute_result"
    }
   ],
   "source": [
    "s = 0\n",
    "for k in range(1, 11):\n",
    "    s = s + k\n",
    "s"
   ]
  },
  {
   "cell_type": "markdown",
   "metadata": {},
   "source": [
    "<span style=\"font-size:2em;font-weight:bold\">5.</span> <span style=\"font-size:1.5em;font-weight:bold\">a.</span> "
   ]
  },
  {
   "cell_type": "code",
   "execution_count": 5,
   "metadata": {},
   "outputs": [],
   "source": [
    "def somme(n):\n",
    "    s = 0\n",
    "    for k in range(1, n + 1):\n",
    "        s = s + k\n",
    "    return s"
   ]
  },
  {
   "cell_type": "markdown",
   "metadata": {},
   "source": [
    "<span style=\"font-size:1.5em;font-weight:bold\">b.</span> "
   ]
  },
  {
   "cell_type": "code",
   "execution_count": 6,
   "metadata": {},
   "outputs": [
    {
     "data": {
      "text/plain": [
       "55"
      ]
     },
     "execution_count": 6,
     "metadata": {},
     "output_type": "execute_result"
    }
   ],
   "source": [
    "somme(10)"
   ]
  },
  {
   "cell_type": "markdown",
   "metadata": {},
   "source": [
    "> Cette instruction calcule $$1+2+3+4+5+6+7+8+9+10$$"
   ]
  },
  {
   "cell_type": "markdown",
   "metadata": {},
   "source": [
    "<span style=\"font-size:1.5em;font-weight:bold\">c.</span> "
   ]
  },
  {
   "cell_type": "code",
   "execution_count": 7,
   "metadata": {},
   "outputs": [
    {
     "data": {
      "text/plain": [
       "5050"
      ]
     },
     "execution_count": 7,
     "metadata": {},
     "output_type": "execute_result"
    }
   ],
   "source": [
    "somme(100)"
   ]
  },
  {
   "cell_type": "markdown",
   "metadata": {},
   "source": [
    "<span style=\"font-size:1.5em;font-weight:bold\">d.</span> "
   ]
  },
  {
   "cell_type": "code",
   "execution_count": 8,
   "metadata": {},
   "outputs": [
    {
     "data": {
      "text/plain": [
       "500500"
      ]
     },
     "execution_count": 8,
     "metadata": {},
     "output_type": "execute_result"
    }
   ],
   "source": [
    "somme(1000)"
   ]
  },
  {
   "cell_type": "markdown",
   "metadata": {},
   "source": [
    "<h1 style=\"font-family:Comic Sans MS;color:white;background-color:black;text-align:center\"> Exercice 7 : </h1>"
   ]
  },
  {
   "cell_type": "markdown",
   "metadata": {},
   "source": [
    "<span style=\"font-size:2em;font-weight:bold\">1.</span>"
   ]
  },
  {
   "cell_type": "code",
   "execution_count": 9,
   "metadata": {
    "scrolled": true
   },
   "outputs": [
    {
     "name": "stdout",
     "output_type": "stream",
     "text": [
      "banane\n",
      "banane\n",
      "banane\n",
      "banane\n",
      "banane\n",
      "banane\n",
      "banane\n",
      "banane\n",
      "banane\n",
      "banane\n"
     ]
    }
   ],
   "source": [
    "for k in range(1, 11):\n",
    "    print('banane')"
   ]
  },
  {
   "cell_type": "markdown",
   "metadata": {},
   "source": [
    "<blockquote>\n",
    "    On aurait pu écrire : \n",
    "    \n",
    "```python\n",
    "for k in range(10):\n",
    "    print('banane')\n",
    "```\n",
    "Les valeurs de <b>k</b> vont de 0 jusque 10 exclu donc : \n",
    "<ul>\n",
    "    <li>ce sont les entiers de 0, 1, 2, ..., 9</li>\n",
    "    <li>Il y en a 10 et la boucle for sera exécutée 10 fois</li>\n",
    "</ul>\n",
    "</blockquote>"
   ]
  },
  {
   "cell_type": "markdown",
   "metadata": {},
   "source": [
    "<span style=\"font-size:2em;font-weight:bold\">2.</span>"
   ]
  },
  {
   "cell_type": "code",
   "execution_count": 10,
   "metadata": {},
   "outputs": [
    {
     "name": "stdout",
     "output_type": "stream",
     "text": [
      "1\n",
      "2\n",
      "3\n",
      "4\n",
      "5\n",
      "6\n",
      "7\n",
      "8\n",
      "9\n",
      "10\n",
      "11\n",
      "12\n",
      "13\n",
      "14\n",
      "15\n",
      "16\n",
      "17\n",
      "18\n",
      "19\n",
      "20\n",
      "21\n",
      "22\n",
      "23\n",
      "24\n",
      "25\n",
      "26\n",
      "27\n",
      "28\n",
      "29\n",
      "30\n",
      "31\n",
      "32\n",
      "33\n",
      "34\n",
      "35\n",
      "36\n",
      "37\n",
      "38\n",
      "39\n",
      "40\n",
      "41\n",
      "42\n",
      "43\n",
      "44\n",
      "45\n",
      "46\n",
      "47\n",
      "48\n",
      "49\n",
      "50\n"
     ]
    }
   ],
   "source": [
    "for k in range(1, 51):\n",
    "    print(k)"
   ]
  },
  {
   "cell_type": "markdown",
   "metadata": {},
   "source": [
    "<h1 style=\"font-family:Comic Sans MS;color:white;background-color:black;text-align:center\"> Exercice 8 : </h1>"
   ]
  },
  {
   "cell_type": "code",
   "execution_count": 11,
   "metadata": {},
   "outputs": [],
   "source": [
    "def f(n):\n",
    "    u = n % 10\n",
    "    d = n // 10\n",
    "    return 10 * u + d"
   ]
  },
  {
   "cell_type": "markdown",
   "metadata": {},
   "source": [
    "<span style=\"font-size:2em;font-weight:bold\">1.</span>"
   ]
  },
  {
   "cell_type": "code",
   "execution_count": 12,
   "metadata": {},
   "outputs": [
    {
     "data": {
      "text/plain": [
       "57"
      ]
     },
     "execution_count": 12,
     "metadata": {},
     "output_type": "execute_result"
    }
   ],
   "source": [
    "f(75)"
   ]
  },
  {
   "cell_type": "code",
   "execution_count": 13,
   "metadata": {},
   "outputs": [
    {
     "data": {
      "text/plain": [
       "31"
      ]
     },
     "execution_count": 13,
     "metadata": {},
     "output_type": "execute_result"
    }
   ],
   "source": [
    "f(13)"
   ]
  },
  {
   "cell_type": "code",
   "execution_count": 14,
   "metadata": {},
   "outputs": [
    {
     "data": {
      "text/plain": [
       "7"
      ]
     },
     "execution_count": 14,
     "metadata": {},
     "output_type": "execute_result"
    }
   ],
   "source": [
    "f(70)"
   ]
  },
  {
   "cell_type": "code",
   "execution_count": 15,
   "metadata": {},
   "outputs": [
    {
     "data": {
      "text/plain": [
       "17"
      ]
     },
     "execution_count": 15,
     "metadata": {},
     "output_type": "execute_result"
    }
   ],
   "source": [
    "f(f(17))"
   ]
  },
  {
   "cell_type": "markdown",
   "metadata": {},
   "source": [
    "<span style=\"font-size:2em;font-weight:bold\">2.</span>"
   ]
  },
  {
   "cell_type": "markdown",
   "metadata": {},
   "source": [
    "> La fonction <code style=\"background-color:white\">f</code> permute le chiffre des dizaines avec celui des unités."
   ]
  },
  {
   "cell_type": "markdown",
   "metadata": {},
   "source": [
    "<h1 style=\"font-family:Comic Sans MS;color:white;background-color:black;text-align:center\"> Exercice 9 : </h1>"
   ]
  },
  {
   "cell_type": "code",
   "execution_count": 16,
   "metadata": {},
   "outputs": [
    {
     "name": "stdout",
     "output_type": "stream",
     "text": [
      "0 4\n",
      "0 5\n",
      "1 4\n",
      "1 5\n",
      "2 4\n",
      "2 5\n"
     ]
    }
   ],
   "source": [
    "for a in range(3):\n",
    "    for b in range(4, 6):\n",
    "        print(a, b)"
   ]
  },
  {
   "cell_type": "code",
   "execution_count": 17,
   "metadata": {},
   "outputs": [
    {
     "name": "stdout",
     "output_type": "stream",
     "text": [
      "4 0\n",
      "5 0\n",
      "4 1\n",
      "5 1\n",
      "4 2\n",
      "5 2\n"
     ]
    }
   ],
   "source": [
    "for a in range(3):\n",
    "    for b in range(4, 6):\n",
    "        print(b, a)"
   ]
  },
  {
   "cell_type": "code",
   "execution_count": 18,
   "metadata": {},
   "outputs": [
    {
     "name": "stdout",
     "output_type": "stream",
     "text": [
      "4 0\n",
      "4 1\n",
      "4 2\n",
      "5 0\n",
      "5 1\n",
      "5 2\n"
     ]
    }
   ],
   "source": [
    "for a in range(4, 6):\n",
    "    for b in range(3):\n",
    "        print(a, b)"
   ]
  },
  {
   "cell_type": "markdown",
   "metadata": {},
   "source": [
    "<h1 style=\"font-family:Comic Sans MS;color:white;background-color:black;text-align:center\"> Exercice 10 : </h1>"
   ]
  },
  {
   "cell_type": "code",
   "execution_count": 19,
   "metadata": {},
   "outputs": [
    {
     "name": "stdout",
     "output_type": "stream",
     "text": [
      "1 1\n",
      "2 4\n",
      "3 9\n",
      "4 16\n",
      "5 25\n"
     ]
    }
   ],
   "source": [
    "def carre(x):\n",
    "    return x ** 2\n",
    "\n",
    "for k in range(1, 6):\n",
    "    print(k, carre(k))"
   ]
  },
  {
   "cell_type": "markdown",
   "metadata": {},
   "source": [
    "<h1 style=\"font-family:Comic Sans MS;color:white;background-color:black;text-align:center\"> Exercice 11 : </h1>"
   ]
  },
  {
   "cell_type": "code",
   "execution_count": 20,
   "metadata": {},
   "outputs": [],
   "source": [
    "def factorielle(n):\n",
    "    p = 1\n",
    "    for k in range(1, n + 1):\n",
    "        p = p * k\n",
    "    return p"
   ]
  },
  {
   "cell_type": "markdown",
   "metadata": {},
   "source": [
    "<span style=\"font-size:2em;font-weight:bold\">1.</span>"
   ]
  },
  {
   "cell_type": "markdown",
   "metadata": {},
   "source": [
    "<blockquote>\n",
    "    La fonction a pour :\n",
    "<ul>\n",
    "    <li> nom : <b>factorielle</b></li>\n",
    "    <li> paramètre : <b>n</b></li>\n",
    "</ul>\n",
    "        \n",
    "</blockquote>"
   ]
  },
  {
   "cell_type": "markdown",
   "metadata": {},
   "source": [
    "<span style=\"font-size:2em;font-weight:bold\">2.</span> <span style=\"font-size:1.5em;font-weight:bold\">a.b.</span>"
   ]
  },
  {
   "cell_type": "code",
   "execution_count": 21,
   "metadata": {},
   "outputs": [
    {
     "data": {
      "text/plain": [
       "120"
      ]
     },
     "execution_count": 21,
     "metadata": {},
     "output_type": "execute_result"
    }
   ],
   "source": [
    "factorielle(5)"
   ]
  },
  {
   "cell_type": "markdown",
   "metadata": {},
   "source": [
    "> Cela permet de calculer le produit $$\\boxed{1\\times\\,2\\,\\times\\,3\\times\\,4\\times\\,5}$$"
   ]
  },
  {
   "cell_type": "markdown",
   "metadata": {},
   "source": [
    "<span style=\"font-size:2em;font-weight:bold\">3.</span>"
   ]
  },
  {
   "cell_type": "code",
   "execution_count": 22,
   "metadata": {},
   "outputs": [
    {
     "data": {
      "text/plain": [
       "720"
      ]
     },
     "execution_count": 22,
     "metadata": {},
     "output_type": "execute_result"
    }
   ],
   "source": [
    "factorielle(6)"
   ]
  },
  {
   "cell_type": "markdown",
   "metadata": {},
   "source": [
    "> Cela permet de calculer le produit $$\\boxed{1\\times\\,2\\,\\times\\,3\\times\\,4\\times\\,5\\,\\times\\,6}$$"
   ]
  },
  {
   "cell_type": "markdown",
   "metadata": {},
   "source": [
    "<h1 style=\"font-family:Comic Sans MS;color:white;background-color:black;text-align:center\"> Exercice 12 : </h1>"
   ]
  },
  {
   "cell_type": "markdown",
   "metadata": {},
   "source": [
    "<span style=\"font-size:2em;font-weight:bold\">1.</span>"
   ]
  },
  {
   "cell_type": "code",
   "execution_count": 23,
   "metadata": {},
   "outputs": [],
   "source": [
    "def somme(n):\n",
    "    s = 0\n",
    "    for k in range(1, n + 1):\n",
    "        s = s + k ** 2\n",
    "    return s    "
   ]
  },
  {
   "cell_type": "markdown",
   "metadata": {},
   "source": [
    "<span style=\"font-size:2em;font-weight:bold\">2.</span>"
   ]
  },
  {
   "cell_type": "code",
   "execution_count": 24,
   "metadata": {},
   "outputs": [
    {
     "data": {
      "text/plain": [
       "385"
      ]
     },
     "execution_count": 24,
     "metadata": {},
     "output_type": "execute_result"
    }
   ],
   "source": [
    "somme(10)"
   ]
  },
  {
   "cell_type": "markdown",
   "metadata": {},
   "source": [
    "<span style=\"font-size:2em;font-weight:bold\">3.</span>"
   ]
  },
  {
   "cell_type": "code",
   "execution_count": 25,
   "metadata": {},
   "outputs": [
    {
     "data": {
      "text/plain": [
       "42925"
      ]
     },
     "execution_count": 25,
     "metadata": {},
     "output_type": "execute_result"
    }
   ],
   "source": [
    "somme(50)"
   ]
  },
  {
   "cell_type": "code",
   "execution_count": null,
   "metadata": {},
   "outputs": [],
   "source": []
  }
 ],
 "metadata": {
  "kernelspec": {
   "display_name": "Python 3",
   "language": "python",
   "name": "python3"
  },
  "language_info": {
   "codemirror_mode": {
    "name": "ipython",
    "version": 3
   },
   "file_extension": ".py",
   "mimetype": "text/x-python",
   "name": "python",
   "nbconvert_exporter": "python",
   "pygments_lexer": "ipython3",
   "version": "3.8.6"
  }
 },
 "nbformat": 4,
 "nbformat_minor": 4
}

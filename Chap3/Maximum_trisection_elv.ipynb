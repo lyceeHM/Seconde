{
 "cells": [
  {
   "cell_type": "markdown",
   "metadata": {},
   "source": [
    "<img src=\"http://maths.bro.free.fr/python_lycee.png\">\n",
    "<div id=\"titre\">\n",
    "<h1 style=\"color:white;\n",
    "  font-family:Comic Sans MS;\n",
    "  font-size:3em;\n",
    "  background-color:black;\n",
    "  text-align:center;\n",
    "  padding:5px\">Détection du maximum par trisection</h1>\n",
    "<div style=\"font-family:Comic Sans MS; background-color:#888;box-shadow: 8px 8px 0px #aaa; text-align:center; width: 50%; color:white\">Seconde : Chapitre 3 </div>\n",
    "</div>"
   ]
  },
  {
   "cell_type": "markdown",
   "metadata": {},
   "source": [
    "## <span style=\"font-size:1.3em;font-weight:bold;padding-right: 30px;\"> 1.</span> &laquo;Trisection&raquo; d'un intervalle"
   ]
  },
  {
   "cell_type": "markdown",
   "metadata": {},
   "source": [
    "<span style=\"font-size:2em;font-weight:bold;padding-right: 30px;\"> a.</span> Exécuter le code suivant."
   ]
  },
  {
   "cell_type": "code",
   "execution_count": null,
   "metadata": {},
   "outputs": [],
   "source": [
    "%%html\n",
    "<iframe scrolling=\"no\" title=\"Suite_logistitique\" src=\"https://www.geogebra.org/material/iframe/id/nxckrep5/width/891/height/610/border/888888/sfsb/true/smb/false/stb/false/stbh/false/ai/false/asb/false/sri/false/rc/false/ld/false/sdz/false/ctl/false\" width=\"700px\" height=\"430px\" style=\"border:0px;\"> </iframe>"
   ]
  },
  {
   "cell_type": "markdown",
   "metadata": {},
   "source": [
    "<div style='background-color:#AAA;padding:10px;border-left: 1rem solid'>\n",
    "La fonction $f$ définie sur l'intervalle $\\left[a\\,;\\,b\\right]$, présente un maximum en $x=x_0$.\n",
    "<br>On découpe $\\left[a\\,;\\,b\\right]$, de longueur $h=b-a$, en trois intervalle de même longueur : \n",
    "<table style=\"border-style:solid;font-size:1.1em\">\n",
    "   <tr style=\"border:2px solid black;background-color:white\">\n",
    "       <td style=\"border:2px solid black;text-align:right;\">Intervalle de <b><span style=\"color:blue\">gauche</span></b></td>\n",
    "       <td style=\"border:2px solid black;text-align:left;width=500\"><span style=\"color:blue\">$\\left[a\\,;\\,c\\right]$</span></td>\n",
    "   </tr>\n",
    "    <tr style=\"border:2px solid black;background-color:white\">\n",
    "        <td style=\"border:2px solid black;text-align:right;\">Intervalle du <b>centre</b></td>\n",
    "       <td style=\"border:2px solid black;text-align:left;\">$\\left[c\\,;\\,d\\right]$</td>\n",
    "   </tr>\n",
    "    <tr style=\"border:2px solid black;background-color:white\">\n",
    "       <td style=\"border:2px solid black;text-align:right;\">Intervalle de <b><span style=\"color:green\">droite</span></b></td>\n",
    "       <td style=\"border:2px solid black;text-align:left;\"><span style=\"color:green\">$\\left[d\\,;\\,b\\right]$</span></td>\n",
    "   </tr>\n",
    "</table> \n",
    "</div>"
   ]
  },
  {
   "cell_type": "markdown",
   "metadata": {},
   "source": [
    "<span style=\"font-size:2em;font-weight:bold;padding-right: 30px;\"> b.</span> Exprimer la longueur de chacun des intervalles, en fonction de $h$."
   ]
  },
  {
   "cell_type": "markdown",
   "metadata": {},
   "source": [
    "<span style=\"font-size:2em;font-weight:bold;padding-right: 30px;\"> c.</span> Que vaut $a+\\dfrac{h}{3}$ ?"
   ]
  },
  {
   "cell_type": "markdown",
   "metadata": {},
   "source": [
    "<span style=\"font-size:2em;font-weight:bold;padding-right: 30px;\"> d.</span> Que vaut $b-\\dfrac{h}{3}$ ?"
   ]
  },
  {
   "cell_type": "markdown",
   "metadata": {},
   "source": [
    "## <span style=\"font-size:1.3em;font-weight:bold;padding-right: 30px;\"> 2.</span> &laquo;Réduction&raquo; de l'intervalle $\\left[a\\,;\\,b\\right]$ lorsque $f(c)\\leqslant f(d)$"
   ]
  },
  {
   "cell_type": "markdown",
   "metadata": {},
   "source": [
    "<span style=\"font-size:2em;font-weight:bold;padding-right: 30px;\"> a.</span> Parmi l'intervalle de <b><span style=\"color:blue\">gauche</span></b> ou de <b><span style=\"color:green\">droite</span></b>, lequel ne contient pas $x_0$ ? \n",
    "<blockquote style=\"border-left: 3px solid black;background-color:white;margin-left: 60px;\">\n",
    "    <em>N'hésitez pas à bouger les curseurs de <code style=\"background-color:white;font-size:1em\">a</code> et  <code style=\"background-color:white;font-size:1em\">b</code> de la figure</em>\n",
    "</blockquote>"
   ]
  },
  {
   "cell_type": "markdown",
   "metadata": {},
   "source": [
    "<span style=\"font-size:2em;font-weight:bold;padding-right: 30px;\"> b.</span> Donner alors l'intervalle <b>restant</b> qui contient $x_0$."
   ]
  },
  {
   "cell_type": "markdown",
   "metadata": {},
   "source": [
    "## <span style=\"font-size:1.3em;font-weight:bold;padding-right: 30px;\"> 3.</span> &laquo;Réduction&raquo;  l'intervalle $\\left[a\\,;\\,b\\right]$ lorsque $f(c)> f(d)$"
   ]
  },
  {
   "cell_type": "markdown",
   "metadata": {},
   "source": [
    "<span style=\"font-size:2em;font-weight:bold;padding-right: 30px;\"> a.</span> Parmi l'intervalle de <b><span style=\"color:blue\">gauche</span></b> ou de <b><span style=\"color:green\">gauche</span></b>, lequel ne contient pas $x_0$ ? "
   ]
  },
  {
   "cell_type": "markdown",
   "metadata": {},
   "source": [
    "<span style=\"font-size:2em;font-weight:bold;padding-right: 30px;\"> b.</span> Donner alors l'intervalle <b>restant</b> qui contient $x_0$."
   ]
  },
  {
   "cell_type": "markdown",
   "metadata": {},
   "source": [
    "## <span style=\"font-size:1.3em;font-weight:bold;padding-right: 30px;\"> 4.</span> Application à la recherche d'un maximum d'une fonction"
   ]
  },
  {
   "cell_type": "markdown",
   "metadata": {},
   "source": [
    "<div style='background-color:#AAA;padding:10px;border-left: 1rem solid'>\n",
    "Soit $f$ la fonction définie sur $\\left[0\\,;\\,3\\right]$ par $$f(x)=-5x^2+12x+9.$$\n",
    "On souhaite déterminer algoithmiquement son maximum atteint en $x=x_0$.\n",
    "</div>"
   ]
  },
  {
   "cell_type": "markdown",
   "metadata": {},
   "source": [
    "<span style=\"font-size:2em;font-weight:bold;padding-right: 30px;\"> a.</span> Compléter la fonction ci-dessous nommée <code style=\"background-color:white;font-size:1em\">f</code> de paramètre <code style=\"background-color:white;font-size:1em\">x</code> qui calcule et renvoie $f(x)$ : "
   ]
  },
  {
   "cell_type": "code",
   "execution_count": null,
   "metadata": {},
   "outputs": [],
   "source": [
    "def f(x):\n",
    "    return -5 * ... ** ... + 12 * ... + 9"
   ]
  },
  {
   "cell_type": "markdown",
   "metadata": {},
   "source": [
    "<span style=\"font-size:2em;font-weight:bold;padding-right: 30px;\"> b.</span> Que vaut f(3) ?"
   ]
  },
  {
   "cell_type": "code",
   "execution_count": null,
   "metadata": {},
   "outputs": [],
   "source": [
    "f(...)"
   ]
  },
  {
   "cell_type": "markdown",
   "metadata": {},
   "source": [
    "<span style=\"font-size:2em;font-weight:bold;padding-right: 30px;\"> c.</span> On donne la fonction suivante :  "
   ]
  },
  {
   "cell_type": "code",
   "execution_count": null,
   "metadata": {},
   "outputs": [],
   "source": [
    "def maximum(a, b, prec):\n",
    "    while b - a > prec:\n",
    "        h = b - a\n",
    "        c = a + h / 3\n",
    "        d = b - h / 3\n",
    "        y1 = f(c)\n",
    "        y2 = f(d)\n",
    "        if y1 <= y2:\n",
    "            a = c\n",
    "        else:\n",
    "            b = d\n",
    "    return a, b"
   ]
  },
  {
   "cell_type": "markdown",
   "metadata": {},
   "source": [
    "<blockquote style=\"border-left: 3px solid black;background-color:white;margin-left: 60px;\">\n",
    "    <ul>\n",
    "        <li>A quelle condition la boucle <code style=\"background-color:white;font-size:1.1em\">while</code> cesse-t-elle d'être exécutée ?</li>\n",
    "        <li>A quelle condition l'instruction <code style=\"background-color:white;font-size:1em\">b = d</code> est-elle exécutée  ?</li>\n",
    "        <li>Compléter :<br> &laquo;à chaque étape, l'intervalle $\\left[a\\,;\\,b\\right]$ est remplacée par $\\left[c\\,;\\,b\\right]$ si $f(c)\\leqslant f(d)$ et par $\\left[a\\,;\\,c\\right]$ sinon &raquo;</li>\n",
    "    </ul>\n",
    "</blockquote>"
   ]
  },
  {
   "cell_type": "markdown",
   "metadata": {},
   "source": [
    "<span style=\"font-size:2em;font-weight:bold;padding-right: 30px;\"> d.</span> Exécuter le code suivant : "
   ]
  },
  {
   "cell_type": "code",
   "execution_count": null,
   "metadata": {},
   "outputs": [],
   "source": [
    "maximum(0, 3, 0.01)"
   ]
  },
  {
   "cell_type": "markdown",
   "metadata": {},
   "source": [
    "<blockquote style=\"border-left: 3px solid black;background-color:white;margin-left: 60px;\">\n",
    "En déduire un encadrement décimal de $x_0$ en arrondissant chacune de ses bornes à $0,001$ près.\n",
    "</blockquote>"
   ]
  },
  {
   "cell_type": "markdown",
   "metadata": {},
   "source": [
    "<span style=\"font-size:2em;font-weight:bold;padding-right: 30px;\"> d.</span> Exécuter le code suivant : "
   ]
  },
  {
   "cell_type": "code",
   "execution_count": null,
   "metadata": {},
   "outputs": [],
   "source": [
    "maximum(0, 3, 0.0001)"
   ]
  },
  {
   "cell_type": "markdown",
   "metadata": {},
   "source": [
    "<blockquote style=\"border-left: 3px solid black;background-color:white;margin-left: 60px;\">\n",
    "En déduire un encadrement décimal de $x_0$ en arrondissant chacune de ses bornes à $0,00001$ près.\n",
    "</blockquote>"
   ]
  },
  {
   "cell_type": "code",
   "execution_count": null,
   "metadata": {},
   "outputs": [],
   "source": [
    "maximum(0, 3, 0.0001)"
   ]
  },
  {
   "cell_type": "markdown",
   "metadata": {},
   "source": [
    "<span style=\"font-size:2em;font-weight:bold;padding-right: 30px;\"> f.</span> Que pourrait valoir $x_0$ s'il était décimal ?"
   ]
  },
  {
   "cell_type": "markdown",
   "metadata": {},
   "source": [
    "## <span style=\"font-size:1.3em;font-weight:bold;padding-right: 30px;\"> 5.</span> Vérification de la valeur de $x_0$ et calcul du maximum"
   ]
  },
  {
   "cell_type": "markdown",
   "metadata": {},
   "source": [
    "<span style=\"font-size:2em;font-weight:bold;padding-right: 30px;\"> a.</span> Donner l'écriture décimale de $\\dfrac{6}{5}$."
   ]
  },
  {
   "cell_type": "markdown",
   "metadata": {},
   "source": [
    "<span style=\"font-size:2em;font-weight:bold;padding-right: 30px;\"> b.</span> Exécuter le code suivant et donner le signe de $f\\left(x\\right)-f\\left(\\dfrac{6}{5}\\right)$."
   ]
  },
  {
   "cell_type": "code",
   "execution_count": null,
   "metadata": {},
   "outputs": [],
   "source": [
    "from sympy import *\n",
    "\n",
    "x = symbols('x')\n",
    "\n",
    "factor(f(x) - f(Rational(6, 5)))"
   ]
  },
  {
   "cell_type": "markdown",
   "metadata": {},
   "source": [
    "<span style=\"font-size:2em;font-weight:bold;padding-right: 30px;\"> c.</span> Calculer alors la valeur du maximum de $f$ <em>(Ecrire sous forme décimale le résultat)</em>."
   ]
  },
  {
   "cell_type": "code",
   "execution_count": null,
   "metadata": {},
   "outputs": [],
   "source": [
    "..."
   ]
  },
  {
   "cell_type": "code",
   "execution_count": null,
   "metadata": {},
   "outputs": [],
   "source": []
  }
 ],
 "metadata": {
  "kernelspec": {
   "display_name": "Python 3",
   "language": "python",
   "name": "python3"
  },
  "language_info": {
   "codemirror_mode": {
    "name": "ipython",
    "version": 3
   },
   "file_extension": ".py",
   "mimetype": "text/x-python",
   "name": "python",
   "nbconvert_exporter": "python",
   "pygments_lexer": "ipython3",
   "version": "3.8.6"
  }
 },
 "nbformat": 4,
 "nbformat_minor": 4
}

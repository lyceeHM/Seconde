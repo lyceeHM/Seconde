{
 "cells": [
  {
   "cell_type": "markdown",
   "metadata": {},
   "source": [
    "<img src=\"http://maths.bro.free.fr/python_lycee.png\">\n",
    "<div id=\"titre\">\n",
    "<h1 style=\"color:white;\n",
    "  font-family:Comic Sans MS;\n",
    "  font-size:3em;\n",
    "  background-color:black;\n",
    "  text-align:center;\n",
    "  padding:5px\">Détection du maximum par trisection</h1>\n",
    "<div style=\"font-family:Comic Sans MS; background-color:#888;box-shadow: 8px 8px 0px #aaa; text-align:center; width: 50%; color:white\">Seconde : Chapitre 3 </div>\n",
    "</div>"
   ]
  },
  {
   "cell_type": "markdown",
   "metadata": {},
   "source": [
    "## <span style=\"font-size:1.3em;font-weight:bold;padding-right: 30px;\"> 1.</span> &laquo;Trisection&raquo; d'un intervalle"
   ]
  },
  {
   "cell_type": "markdown",
   "metadata": {},
   "source": [
    "<span style=\"font-size:2em;font-weight:bold;padding-right: 30px;\"> a.</span> Exécuter le code suivant."
   ]
  },
  {
   "cell_type": "code",
   "execution_count": 1,
   "metadata": {},
   "outputs": [
    {
     "data": {
      "text/html": [
       "\n",
       "<iframe scrolling=\"no\" title=\"Suite_logistitique\" src=\"https://www.geogebra.org/material/iframe/id/nxckrep5/width/891/height/610/border/888888/sfsb/true/smb/false/stb/false/stbh/false/ai/false/asb/false/sri/false/rc/false/ld/false/sdz/false/ctl/false\" width=\"700px\" height=\"430px\" style=\"border:0px;\"> </iframe>"
      ],
      "text/plain": [
       "<IPython.core.display.HTML object>"
      ]
     },
     "execution_count": 1,
     "metadata": {},
     "output_type": "execute_result"
    }
   ],
   "source": [
    "import IPython.display as display\n",
    "fig = \"\"\"\n",
    "<iframe scrolling=\"no\" title=\"Suite_logistitique\" src=\"https://www.geogebra.org/material/iframe/id/nxckrep5/width/891/height/610/border/888888/sfsb/true/smb/false/stb/false/stbh/false/ai/false/asb/false/sri/false/rc/false/ld/false/sdz/false/ctl/false\" width=\"700px\" height=\"430px\" style=\"border:0px;\"> </iframe>\"\"\"\n",
    "display.HTML(fig)"
   ]
  },
  {
   "cell_type": "markdown",
   "metadata": {},
   "source": [
    "<div style='background-color:#AAA;padding:10px;border-left: 1rem solid'>\n",
    "La fonction $f$ représentée ci-dessus, sur l'intervalle $\\left[a\\,;\\,b\\right]$, présente un maximum en $x=x_0$.\n",
    "    <br>\n",
    "    <br><div style=\"background-color:white\"><b>L'objectif est de déterminer un encadrement de $x_0$ aussi petit que l'on veut.</b></div><br>\n",
    "On découpe $\\left[a\\,;\\,b\\right]$, de longueur $h=b-a$, en trois intervalle de même longueur : \n",
    "<table style=\"border-style:solid;font-size:1.1em\">\n",
    "   <tr style=\"border:2px solid black;background-color:white\">\n",
    "       <td style=\"border:2px solid black;text-align:right;\">Intervalle de <b><span style=\"color:blue\">gauche</span></b></td>\n",
    "       <td style=\"border:2px solid black;text-align:left;width=500\"><span style=\"color:blue\">$\\left[a\\,;\\,c\\right]$</span></td>\n",
    "   </tr>\n",
    "    <tr style=\"border:2px solid black;background-color:white\">\n",
    "        <td style=\"border:2px solid black;text-align:right;\">Intervalle du <b>centre</b></td>\n",
    "       <td style=\"border:2px solid black;text-align:left;\">$\\left[c\\,;\\,d\\right]$</td>\n",
    "   </tr>\n",
    "    <tr style=\"border:2px solid black;background-color:white\">\n",
    "       <td style=\"border:2px solid black;text-align:right;\">Intervalle de <b><span style=\"color:green\">droite</span></b></td>\n",
    "       <td style=\"border:2px solid black;text-align:left;\"><span style=\"color:green\">$\\left[d\\,;\\,b\\right]$</span></td>\n",
    "   </tr>\n",
    "</table> \n",
    "</div>"
   ]
  },
  {
   "cell_type": "markdown",
   "metadata": {},
   "source": [
    "<span style=\"font-size:2em;font-weight:bold;padding-right: 30px;\"> b.</span> Exprimer la longueur de chacun des intervalles, en fonction de $h$."
   ]
  },
  {
   "cell_type": "markdown",
   "metadata": {},
   "source": [
    "<blockquote style=\"border-left: 3px solid blue;background-color:white;margin-left: 60px;color:blue\">\n",
    "    $\\dfrac{h}{3}$\n",
    "</blockquote>"
   ]
  },
  {
   "cell_type": "markdown",
   "metadata": {},
   "source": [
    "<span style=\"font-size:2em;font-weight:bold;padding-right: 30px;\"> c.</span> Que vaut $a+\\dfrac{h}{3}$ ?"
   ]
  },
  {
   "cell_type": "markdown",
   "metadata": {},
   "source": [
    "<blockquote style=\"border-left: 3px solid blue;background-color:white;margin-left: 60px;color:blue\">\n",
    "    $c$\n",
    "</blockquote>"
   ]
  },
  {
   "cell_type": "markdown",
   "metadata": {},
   "source": [
    "<span style=\"font-size:2em;font-weight:bold;padding-right: 30px;\"> d.</span> Que vaut $b-\\dfrac{h}{3}$ ?"
   ]
  },
  {
   "cell_type": "markdown",
   "metadata": {},
   "source": [
    "<blockquote style=\"border-left: 3px solid blue;background-color:white;margin-left: 60px;color:blue\">\n",
    "    $d$\n",
    "</blockquote>"
   ]
  },
  {
   "cell_type": "markdown",
   "metadata": {},
   "source": [
    "## <span style=\"font-size:1.3em;font-weight:bold;padding-right: 30px;\"> 2.</span> &laquo;Réduction&raquo; de l'intervalle $\\left[a\\,;\\,b\\right]$ lorsque $f(c)\\leqslant f(d)$"
   ]
  },
  {
   "cell_type": "markdown",
   "metadata": {},
   "source": [
    "<span style=\"font-size:2em;font-weight:bold;padding-right: 30px;\"> a.</span> Parmi l'intervalle de <b><span style=\"color:blue\">gauche</span></b> ou de <b><span style=\"color:green\">droite</span></b>, lequel ne contient pas $x_0$ ? \n",
    "<blockquote style=\"border-left: 3px solid black;background-color:white;margin-left: 60px;\">\n",
    "    <em>N'hésitez pas à bouger les curseurs de <code style=\"background-color:white;font-size:1em\">a</code> et  <code style=\"background-color:white;font-size:1em\">b</code> de la figure</em>\n",
    "</blockquote>"
   ]
  },
  {
   "cell_type": "markdown",
   "metadata": {},
   "source": [
    "<blockquote style=\"border-left: 3px solid blue;background-color:white;margin-left: 60px;color:blue\">\n",
    "    C'est l'intervalle de gauche $\\left[a\\,;\\,c\\right]$\n",
    "</blockquote>"
   ]
  },
  {
   "cell_type": "markdown",
   "metadata": {},
   "source": [
    "<span style=\"font-size:2em;font-weight:bold;padding-right: 30px;\"> b.</span> Donner alors l'intervalle <b>restant</b> qui contient $x_0$."
   ]
  },
  {
   "cell_type": "markdown",
   "metadata": {},
   "source": [
    "<blockquote style=\"border-left: 3px solid blue;background-color:white;margin-left: 60px;color:blue\">\n",
    "    $\\left[c\\,;\\,b\\right]$\n",
    "</blockquote>"
   ]
  },
  {
   "cell_type": "markdown",
   "metadata": {},
   "source": [
    "## <span style=\"font-size:1.3em;font-weight:bold;padding-right: 30px;\"> 3.</span> &laquo;Réduction&raquo;  l'intervalle $\\left[a\\,;\\,b\\right]$ lorsque $f(c)> f(d)$"
   ]
  },
  {
   "cell_type": "markdown",
   "metadata": {},
   "source": [
    "<span style=\"font-size:2em;font-weight:bold;padding-right: 30px;\"> a.</span> Parmi l'intervalle de <b><span style=\"color:blue\">gauche</span></b> ou de <b><span style=\"color:green\">droite</span></b>, lequel ne contient pas $x_0$ ? "
   ]
  },
  {
   "cell_type": "markdown",
   "metadata": {},
   "source": [
    "<blockquote style=\"border-left: 3px solid blue;background-color:white;margin-left: 60px;color:blue\">\n",
    "    C'est l'intervalle de <span style=\"color:green\">droite $\\left[d\\,;\\,b\\right]$</span>\n",
    "</blockquote>"
   ]
  },
  {
   "cell_type": "markdown",
   "metadata": {},
   "source": [
    "<span style=\"font-size:2em;font-weight:bold;padding-right: 30px;\"> b.</span> Donner alors l'intervalle <b>restant</b> qui contient $x_0$."
   ]
  },
  {
   "cell_type": "markdown",
   "metadata": {},
   "source": [
    "<blockquote style=\"border-left: 3px solid blue;background-color:white;margin-left: 60px;color:blue\">\n",
    "    $\\left[a\\,;\\,d\\right]$\n",
    "</blockquote>"
   ]
  },
  {
   "cell_type": "markdown",
   "metadata": {},
   "source": [
    "## <span style=\"font-size:1.3em;font-weight:bold;padding-right: 30px;\"> 4.</span> Application à la recherche d'un maximum d'une fonction"
   ]
  },
  {
   "cell_type": "markdown",
   "metadata": {},
   "source": [
    "<div style='background-color:#AAA;padding:10px;border-left: 1rem solid'>\n",
    "Soit $f$ la fonction définie sur $\\left[0\\,;\\,3\\right]$ par $$f(x)=-5x^2+12x+9.$$\n",
    "On souhaite déterminer algoithmiquement son maximum atteint en $x=x_0$.\n",
    "</div>"
   ]
  },
  {
   "cell_type": "markdown",
   "metadata": {},
   "source": [
    "<span style=\"font-size:2em;font-weight:bold;padding-right: 30px;\"> a.</span> Compléter la fonction ci-dessous nommée <code style=\"background-color:white;font-size:1em\">f</code> de paramètre <code style=\"background-color:white;font-size:1em\">x</code> qui calcule et renvoie $f(x)$ : "
   ]
  },
  {
   "cell_type": "code",
   "execution_count": 2,
   "metadata": {},
   "outputs": [],
   "source": [
    "def f(x):\n",
    "    return -5 * x ** 2 + 12 * x + 9"
   ]
  },
  {
   "cell_type": "markdown",
   "metadata": {},
   "source": [
    "<span style=\"font-size:2em;font-weight:bold;padding-right: 30px;\"> b.</span> Que vaut f(3) ?"
   ]
  },
  {
   "cell_type": "code",
   "execution_count": 3,
   "metadata": {},
   "outputs": [
    {
     "data": {
      "text/plain": [
       "0"
      ]
     },
     "execution_count": 3,
     "metadata": {},
     "output_type": "execute_result"
    }
   ],
   "source": [
    "f(3)"
   ]
  },
  {
   "cell_type": "markdown",
   "metadata": {},
   "source": [
    "<span style=\"font-size:2em;font-weight:bold;padding-right: 30px;\"> c.</span> On donne la fonction suivante :  "
   ]
  },
  {
   "cell_type": "code",
   "execution_count": 4,
   "metadata": {},
   "outputs": [],
   "source": [
    "def maximum(a, b, prec):\n",
    "    while b - a > prec:\n",
    "        h = b - a\n",
    "        c = a + h / 3\n",
    "        d = b - h / 3\n",
    "        y1 = f(c)\n",
    "        y2 = f(d)\n",
    "        if y1 <= y2:\n",
    "            a = c\n",
    "        else:\n",
    "            b = d\n",
    "    return a, b"
   ]
  },
  {
   "cell_type": "markdown",
   "metadata": {},
   "source": [
    "<blockquote style=\"border-left: 3px solid black;background-color:white;margin-left: 60px;\">\n",
    "    <ul>\n",
    "        <li>A quelle condition la boucle <code style=\"background-color:white;font-size:1.1em\">while</code> cesse-t-elle d'être exécutée ?<br> <blockquote style=\"border-left: 3px solid blue;background-color:white;margin-left: 60px;color:blue\">\n",
    "            <code>b - a &#60;= prec</code>\n",
    "</blockquote></li>\n",
    "        <li>A quelle condition l'instruction <code style=\"background-color:white;font-size:1em\">b = d</code> est-elle exécutée  ?<blockquote style=\"border-left: 3px solid blue;background-color:white;margin-left: 60px;color:blue\">\n",
    "            <code>y1 &#62; prec</code>\n",
    "</blockquote></li>\n",
    "        <li>Compléter :<br> &laquo;à chaque étape, l'intervalle $\\left[a\\,;\\,b\\right]$ est remplacée par $\\left[\\ldots\\,;\\,\\ldots\\right]$ si $f(c)\\leqslant f(d)$ et par $\\left[\\ldots\\,;\\,\\ldots\\right]$ sinon &raquo;<blockquote style=\"border-left: 3px solid blue;background-color:white;margin-left: 60px;color:blue\">\n",
    "            &laquo;à chaque étape, l'intervalle $\\left[a\\,;\\,b\\right]$ est remplacée par $\\left[\\boxed{c}\\,;\\,\\boxed{d}\\right]$ si $f(c)\\leqslant f(d)$ et par $\\left[\\boxed{a}\\,;\\,\\boxed{d}\\right]$ sinon &raquo;\n",
    "</blockquote></li>\n",
    "    </ul>\n",
    "</blockquote>"
   ]
  },
  {
   "cell_type": "markdown",
   "metadata": {},
   "source": [
    "<span style=\"font-size:2em;font-weight:bold;padding-right: 30px;\"> d.</span> Exécuter le code suivant : "
   ]
  },
  {
   "cell_type": "code",
   "execution_count": 5,
   "metadata": {},
   "outputs": [
    {
     "data": {
      "text/plain": [
       "(1.195889415131062, 1.2027403899126254)"
      ]
     },
     "execution_count": 5,
     "metadata": {},
     "output_type": "execute_result"
    }
   ],
   "source": [
    "maximum(0, 3, 0.01)"
   ]
  },
  {
   "cell_type": "markdown",
   "metadata": {},
   "source": [
    "<blockquote style=\"border-left: 3px solid black;background-color:white;margin-left: 60px;\">\n",
    "En déduire un encadrement décimal de $x_0$ en arrondissant chacune de ses bornes à $0,001$ près.\n",
    "</blockquote>"
   ]
  },
  {
   "cell_type": "markdown",
   "metadata": {},
   "source": [
    "<blockquote style=\"border-left: 3px solid blue;background-color:white;margin-left: 60px;color:blue\">\n",
    "    $1,196\\leqslant x_0\\leqslant 1,203$\n",
    "</blockquote>"
   ]
  },
  {
   "cell_type": "markdown",
   "metadata": {},
   "source": [
    "<span style=\"font-size:2em;font-weight:bold;padding-right: 30px;\"> d.</span> Exécuter le code suivant : "
   ]
  },
  {
   "cell_type": "code",
   "execution_count": 6,
   "metadata": {},
   "outputs": [
    {
     "data": {
      "text/plain": [
       "(1.1999683182975662, 1.2000475225536509)"
      ]
     },
     "execution_count": 6,
     "metadata": {},
     "output_type": "execute_result"
    }
   ],
   "source": [
    "maximum(0, 3, 0.0001)"
   ]
  },
  {
   "cell_type": "markdown",
   "metadata": {},
   "source": [
    "<blockquote style=\"border-left: 3px solid black;background-color:white;margin-left: 60px;\">\n",
    "En déduire un encadrement décimal de $x_0$ en arrondissant chacune de ses bornes à $0,00001$ près.\n",
    "</blockquote>"
   ]
  },
  {
   "cell_type": "markdown",
   "metadata": {},
   "source": [
    "<blockquote style=\"border-left: 3px solid blue;background-color:white;margin-left: 60px;color:blue\">\n",
    "    $1,19996\\leqslant x_0\\leqslant 1,20005$\n",
    "</blockquote>"
   ]
  },
  {
   "cell_type": "markdown",
   "metadata": {},
   "source": [
    "<span style=\"font-size:2em;font-weight:bold;padding-right: 30px;\"> f.</span> Que pourrait valoir $x_0$ s'il était décimal ?"
   ]
  },
  {
   "cell_type": "markdown",
   "metadata": {},
   "source": [
    "<blockquote style=\"border-left: 3px solid blue;background-color:white;margin-left: 60px;color:blue\">\n",
    "    $x_0=1,2$\n",
    "</blockquote>"
   ]
  },
  {
   "cell_type": "markdown",
   "metadata": {},
   "source": [
    "## <span style=\"font-size:1.3em;font-weight:bold;padding-right: 30px;\"> 5.</span> Vérification de la valeur de $x_0$ et calcul du maximum"
   ]
  },
  {
   "cell_type": "markdown",
   "metadata": {},
   "source": [
    "<span style=\"font-size:2em;font-weight:bold;padding-right: 30px;\"> a.</span> Donner l'écriture décimale de $\\dfrac{6}{5}$."
   ]
  },
  {
   "cell_type": "markdown",
   "metadata": {},
   "source": [
    "<blockquote style=\"border-left: 3px solid blue;background-color:white;margin-left: 60px;color:blue\">\n",
    "    $\\dfrac{6}{5}=1,2$\n",
    "</blockquote>"
   ]
  },
  {
   "cell_type": "markdown",
   "metadata": {},
   "source": [
    "<span style=\"font-size:2em;font-weight:bold;padding-right: 30px;\"> b.</span> Exécuter le code suivant et donner le signe de $f\\left(x\\right)-f\\left(\\dfrac{6}{5}\\right)$."
   ]
  },
  {
   "cell_type": "code",
   "execution_count": 7,
   "metadata": {},
   "outputs": [
    {
     "data": {
      "text/latex": [
       "$\\displaystyle - \\frac{\\left(5 x - 6\\right)^{2}}{5}$"
      ],
      "text/plain": [
       "-(5*x - 6)**2/5"
      ]
     },
     "execution_count": 7,
     "metadata": {},
     "output_type": "execute_result"
    }
   ],
   "source": [
    "from sympy import *\n",
    "\n",
    "x = symbols('x')\n",
    "\n",
    "factor(f(x) - f(Rational(6, 5)))"
   ]
  },
  {
   "cell_type": "markdown",
   "metadata": {},
   "source": [
    "<blockquote style=\"border-left: 3px solid blue;background-color:white;margin-left: 60px;color:blue\">\n",
    "    Par ce qui précède, $$f\\left(x\\right)-f\\left(\\dfrac{6}{5}\\right)=-\\dfrac{\\left(5x-6\\right)^2}{5}$$ donc $f\\left(x\\right)-f\\left(\\dfrac{6}{5}\\right)$ est <b>négatif</b> car un carré est toujours positif.\n",
    "</blockquote>"
   ]
  },
  {
   "cell_type": "markdown",
   "metadata": {},
   "source": [
    "<span style=\"font-size:2em;font-weight:bold;padding-right: 30px;\"> c.</span> Calculer alors la valeur du maximum de $f$ <em>(Ecrire sous forme décimale le résultat)</em>."
   ]
  },
  {
   "cell_type": "code",
   "execution_count": 8,
   "metadata": {},
   "outputs": [
    {
     "data": {
      "text/plain": [
       "16.2"
      ]
     },
     "execution_count": 8,
     "metadata": {},
     "output_type": "execute_result"
    }
   ],
   "source": [
    "f(1.2)"
   ]
  },
  {
   "cell_type": "code",
   "execution_count": null,
   "metadata": {},
   "outputs": [],
   "source": []
  }
 ],
 "metadata": {
  "kernelspec": {
   "display_name": "Python 3",
   "language": "python",
   "name": "python3"
  },
  "language_info": {
   "codemirror_mode": {
    "name": "ipython",
    "version": 3
   },
   "file_extension": ".py",
   "mimetype": "text/x-python",
   "name": "python",
   "nbconvert_exporter": "python",
   "pygments_lexer": "ipython3",
   "version": "3.8.6"
  }
 },
 "nbformat": 4,
 "nbformat_minor": 4
}

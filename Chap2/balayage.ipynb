{
 "cells": [
  {
   "cell_type": "markdown",
   "metadata": {},
   "source": [
    "<img src=\"http://maths.bro.free.fr/python_lycee.png\">\n",
    "<div id=\"titre\">\n",
    "<h1 style=\"color:white;\n",
    "  font-family:Comic Sans MS;\n",
    "  font-size:3em;\n",
    "  background-color:black;\n",
    "  text-align:center;\n",
    "  padding:5px\">Méthode par balayage, Exo n°35</h1>\n",
    "<div style=\"font-family:Comic Sans MS; background-color:#888;box-shadow: 8px 8px 0px #aaa; text-align:center; width: 50%; color:white\">Seconde : Feuillet python </div>\n",
    "</div>"
   ]
  },
  {
   "cell_type": "markdown",
   "metadata": {},
   "source": [
    "## <span style=\"font-size:1.3em;font-weight:bold;padding-right: 30px;\"> 1.</span> "
   ]
  },
  {
   "cell_type": "markdown",
   "metadata": {},
   "source": [
    "> <ul>\n",
    "    <li> $a\\leqslant\\sqrt{2}<b\\Longleftrightarrow a^{2}\\leqslant 2< b^{2}$</li>\n",
    "    <br>\n",
    "    <li> $\\sqrt{2}\\in\\left[a\\,;\\,b\\right[$ si et seulement si $2\\in\\left[a^2\\,;\\,b^2\\right[$</li>\n",
    "  </ul>"
   ]
  },
  {
   "cell_type": "markdown",
   "metadata": {},
   "source": [
    "## <span style=\"font-size:1.3em;font-weight:bold;padding-right: 30px;\"> 2.</span> Encadrements de $\\sqrt{2}$"
   ]
  },
  {
   "cell_type": "markdown",
   "metadata": {},
   "source": [
    "> <ul>\n",
    "    <li> $1\\leqslant\\sqrt{2} <2$</li>\n",
    "    <br>\n",
    "    <li> $1,4\\leqslant\\sqrt{2} <1,5$</li>\n",
    "  </ul>"
   ]
  },
  {
   "cell_type": "markdown",
   "metadata": {},
   "source": [
    "## <span style=\"font-size:1.3em;font-weight:bold;padding-right: 30px;\"> 3.</span> Fonction balayage"
   ]
  },
  {
   "cell_type": "code",
   "execution_count": 1,
   "metadata": {},
   "outputs": [],
   "source": [
    "def balayage(depart, n):\n",
    "    x = depart\n",
    "    while x ** 2 < 2:\n",
    "        x = x + 10 ** (-n)\n",
    "    return x - 10 ** (-n), x"
   ]
  },
  {
   "cell_type": "markdown",
   "metadata": {},
   "source": [
    "## <span style=\"font-size:1.3em;font-weight:bold;padding-right: 30px;\"> 4.</span> Encadrement de $\\sqrt{2}$ d'amplitude égale à $10^{-2}$"
   ]
  },
  {
   "cell_type": "markdown",
   "metadata": {},
   "source": [
    "<span style=\"font-size:2em;font-weight:bold;padding-right: 30px;\"> a.</span>"
   ]
  },
  {
   "cell_type": "code",
   "execution_count": 2,
   "metadata": {},
   "outputs": [
    {
     "data": {
      "text/plain": [
       "(1.4100000000000004, 1.4200000000000004)"
      ]
     },
     "execution_count": 2,
     "metadata": {},
     "output_type": "execute_result"
    }
   ],
   "source": [
    "balayage(1, 2)"
   ]
  },
  {
   "cell_type": "markdown",
   "metadata": {},
   "source": [
    "<span style=\"font-size:2em;font-weight:bold;padding-right: 30px;\"> b.</span>"
   ]
  },
  {
   "cell_type": "markdown",
   "metadata": {},
   "source": [
    "> On en déduit que $$1,41\\leqslant \\sqrt{2}< 1,42$$"
   ]
  },
  {
   "cell_type": "markdown",
   "metadata": {},
   "source": [
    "<b>Pour améliorer l'affichage : </b>"
   ]
  },
  {
   "cell_type": "code",
   "execution_count": 3,
   "metadata": {},
   "outputs": [],
   "source": [
    "def balayage(depart, n):\n",
    "    x = depart\n",
    "    while x ** 2 < 2:\n",
    "        x = x + 10 ** (-n)\n",
    "    return round(x - 10 ** (-n), n), round(x, n)"
   ]
  },
  {
   "cell_type": "code",
   "execution_count": 4,
   "metadata": {},
   "outputs": [
    {
     "data": {
      "text/plain": [
       "(1.41, 1.42)"
      ]
     },
     "execution_count": 4,
     "metadata": {},
     "output_type": "execute_result"
    }
   ],
   "source": [
    "balayage(1, 2)"
   ]
  },
  {
   "cell_type": "markdown",
   "metadata": {},
   "source": [
    "## <span style=\"font-size:1.3em;font-weight:bold;padding-right: 30px;\"> 5.</span> Encadrement de $\\sqrt{2}$ d'amplitude égale à $10^{-3}$"
   ]
  },
  {
   "cell_type": "code",
   "execution_count": 5,
   "metadata": {},
   "outputs": [
    {
     "data": {
      "text/plain": [
       "(1.414, 1.415)"
      ]
     },
     "execution_count": 5,
     "metadata": {},
     "output_type": "execute_result"
    }
   ],
   "source": [
    "balayage(1, 3)"
   ]
  },
  {
   "cell_type": "markdown",
   "metadata": {},
   "source": [
    "> On en déduit que $$1,414\\leqslant \\sqrt{2}< 1,415$$"
   ]
  },
  {
   "cell_type": "markdown",
   "metadata": {},
   "source": [
    "## <span style=\"font-size:1.3em;font-weight:bold;padding-right: 30px;\"> 6.</span> Encadrement de $\\sqrt{7}$ d'amplitude égale à $10^{-3}$"
   ]
  },
  {
   "cell_type": "code",
   "execution_count": 6,
   "metadata": {},
   "outputs": [],
   "source": [
    "def Balayage(N, depart, n):\n",
    "    x = depart\n",
    "    while x ** 2 < N:\n",
    "        x = x + 10 ** (-n)\n",
    "    return round(x - 10 ** (-n), n), round(x, n)"
   ]
  },
  {
   "cell_type": "code",
   "execution_count": 7,
   "metadata": {},
   "outputs": [
    {
     "data": {
      "text/plain": [
       "(2.645, 2.646)"
      ]
     },
     "execution_count": 7,
     "metadata": {},
     "output_type": "execute_result"
    }
   ],
   "source": [
    "Balayage(7, 1, 3)"
   ]
  },
  {
   "cell_type": "markdown",
   "metadata": {},
   "source": [
    "> On en déduit que $$2,645\\leqslant \\sqrt{7}< 2,646$$"
   ]
  },
  {
   "cell_type": "code",
   "execution_count": null,
   "metadata": {},
   "outputs": [],
   "source": []
  }
 ],
 "metadata": {
  "kernelspec": {
   "display_name": "Python 3",
   "language": "python",
   "name": "python3"
  },
  "language_info": {
   "codemirror_mode": {
    "name": "ipython",
    "version": 3
   },
   "file_extension": ".py",
   "mimetype": "text/x-python",
   "name": "python",
   "nbconvert_exporter": "python",
   "pygments_lexer": "ipython3",
   "version": "3.8.6"
  }
 },
 "nbformat": 4,
 "nbformat_minor": 2
}

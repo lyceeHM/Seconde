{
 "cells": [
  {
   "cell_type": "markdown",
   "metadata": {},
   "source": [
    "# Tirage des 6 pour le sujet A"
   ]
  },
  {
   "cell_type": "code",
   "execution_count": null,
   "metadata": {},
   "outputs": [],
   "source": [
    "L = ['Mathias',\n",
    " 'Thomas',\n",
    " 'Shawn',\n",
    " 'Charlotte',\n",
    " 'Hugo',\n",
    " 'Clara',\n",
    " 'Zoé',\n",
    " 'Adam',\n",
    " 'Marie',\n",
    " 'Fatoumata',\n",
    " 'Busra',\n",
    " 'Lana',\n",
    " 'Kyliana',\n",
    " 'kelya',\n",
    " 'Louane',\n",
    " 'Roman',\n",
    " 'Ilyasse',\n",
    " 'Daren',\n",
    " 'Gianni']\n",
    "\n",
    "from random import sample\n",
    "\n",
    "sample(L, k = 6)"
   ]
  },
  {
   "cell_type": "markdown",
   "metadata": {},
   "source": [
    "# Tirage des 6 pour le sujet B"
   ]
  },
  {
   "cell_type": "code",
   "execution_count": null,
   "metadata": {},
   "outputs": [],
   "source": [
    "L = ['Lydia',\n",
    " 'Antoine',\n",
    " 'Gael',\n",
    " 'Lina',\n",
    " 'Mylan',\n",
    " 'Maëva',\n",
    " 'Clément',\n",
    " 'Adam',\n",
    " 'Gianni',\n",
    " 'Louna',\n",
    " 'Wissem',\n",
    " 'Valarina',\n",
    " 'Assema',\n",
    " 'Shaïma',\n",
    " 'Timothé',\n",
    " 'Muhammad',\n",
    " 'Hayat',\n",
    " 'Mourad']\n",
    "\n",
    "from random import sample\n",
    "\n",
    "sample(L, k = 6)"
   ]
  },
  {
   "cell_type": "code",
   "execution_count": null,
   "metadata": {},
   "outputs": [],
   "source": []
  }
 ],
 "metadata": {
  "kernelspec": {
   "display_name": "Python 3",
   "language": "python",
   "name": "python3"
  },
  "language_info": {
   "codemirror_mode": {
    "name": "ipython",
    "version": 3
   },
   "file_extension": ".py",
   "mimetype": "text/x-python",
   "name": "python",
   "nbconvert_exporter": "python",
   "pygments_lexer": "ipython3",
   "version": "3.8.6"
  }
 },
 "nbformat": 4,
 "nbformat_minor": 4
}
